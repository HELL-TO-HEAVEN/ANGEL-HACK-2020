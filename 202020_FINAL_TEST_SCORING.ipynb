{
 "cells": [
  {
   "cell_type": "markdown",
   "metadata": {},
   "source": [
    "This is the sample script used to score on hidden dataset. We have also timed the prediction on the whole base. It will take approximately 10 min for ETA prediction of 28,000 routes."
   ]
  },
  {
   "cell_type": "code",
   "execution_count": 6,
   "metadata": {},
   "outputs": [],
   "source": [
    "import json\n",
    "import requests\n",
    "import pandas as pd\n",
    "\n",
    "#conversion to pandas\n",
    "def conv_(ch): \n",
    "    res = ch.strip('][').split(', ') \n",
    "    res = [s.strip('[\"]') for s in res]\n",
    "    res_pd = pd.DataFrame(res)\n",
    "    res_pd.columns = ['pred']\n",
    "    res_pd['pred'] = pd.to_numeric(res_pd['pred'])\n",
    "    return res_pd\n",
    "\n",
    "\n",
    "#scoring function\n",
    "def score_url(df): \n",
    "# URL for the web service.\n",
    "    scoring_uri = 'http://41698060-7459-44a9-97d6-6b4da799ad9a.southeastasia.azurecontainer.io/score'\n",
    "    # Convert to JSON string.\n",
    "    input_data_json = df.to_json()\n",
    "    # Set the content type.\n",
    "    headers = {'Content-Type': 'application/json'}\n",
    "    # Make the request and display the response.\n",
    "    resp = requests.post(scoring_uri, input_data_json, headers=headers)\n",
    "    # print(resp.text)\n",
    "    pred = conv_(resp.text)\n",
    "    return pred\n",
    "\n",
    "#scoring function - by batch\n",
    "def score_batch(df):\n",
    "    pd_all = pd.DataFrame()\n",
    "    if df.shape[0]>1000:\n",
    "        for i in range(1,len(df)//1000+1,1):\n",
    "            a = 1000*(i-1); b = i*1000\n",
    "            temp = df.iloc[a:b,:]\n",
    "            pred_temp = score_url(temp)\n",
    "            pd_all = pd.concat([pd_all, pred_temp], axis = 0)\n",
    "    else:\n",
    "        pd_all= score_url(df)\n",
    "        \n",
    "    return pd_all\n",
    "\n",
    "# scoring function for single entry - in dict\n",
    "def score_single(input_data_json): \n",
    "# URL for the web service.\n",
    "    scoring_uri = 'http://41698060-7459-44a9-97d6-6b4da799ad9a.southeastasia.azurecontainer.io/score'\n",
    "    # Convert to JSON string.\n",
    "    #input_data_json = df.to_json()\n",
    "    # Set the content type.\n",
    "    headers = {'Content-Type': 'application/json'}\n",
    "    # Make the request and display the response.\n",
    "    resp = requests.post(scoring_uri, input_data_json, headers=headers)\n",
    "    # print(resp.text)\n",
    "    pred = conv_(resp.text)\n",
    "    return pred"
   ]
  },
  {
   "cell_type": "markdown",
   "metadata": {},
   "source": [
    "Load the data from CSV (in pandas format)"
   ]
  },
  {
   "cell_type": "code",
   "execution_count": 2,
   "metadata": {},
   "outputs": [],
   "source": [
    "inp = \"D:/Kaggle/AngelHack/stupid azure/FinalModel/\"\n",
    "data = pd.read_csv(inp+'sample_all.csv')\n",
    "sample = pd.read_csv(inp+'sample.csv')\n",
    "target = pd.read_csv(inp+'target_all.csv')\n",
    "single_sample = sample.iloc[0:1,:]"
   ]
  },
  {
   "cell_type": "markdown",
   "metadata": {},
   "source": [
    "Final results in data frame"
   ]
  },
  {
   "cell_type": "code",
   "execution_count": 32,
   "metadata": {},
   "outputs": [
    {
     "name": "stdout",
     "output_type": "stream",
     "text": [
      "Wall time: 1.87 s\n"
     ]
    }
   ],
   "source": [
    "%%time\n",
    "test_all = score_batch(sample)"
   ]
  },
  {
   "cell_type": "markdown",
   "metadata": {},
   "source": [
    "Test with single example - just change the value after \"0\": for all the inputs desired. (JSON FORMAT FOR DF FORM)"
   ]
  },
  {
   "cell_type": "code",
   "execution_count": 8,
   "metadata": {},
   "outputs": [
    {
     "data": {
      "text/html": [
       "<div>\n",
       "<style scoped>\n",
       "    .dataframe tbody tr th:only-of-type {\n",
       "        vertical-align: middle;\n",
       "    }\n",
       "\n",
       "    .dataframe tbody tr th {\n",
       "        vertical-align: top;\n",
       "    }\n",
       "\n",
       "    .dataframe thead th {\n",
       "        text-align: right;\n",
       "    }\n",
       "</style>\n",
       "<table border=\"1\" class=\"dataframe\">\n",
       "  <thead>\n",
       "    <tr style=\"text-align: right;\">\n",
       "      <th></th>\n",
       "      <th>pred</th>\n",
       "    </tr>\n",
       "  </thead>\n",
       "  <tbody>\n",
       "    <tr>\n",
       "      <th>0</th>\n",
       "      <td>1146.556888</td>\n",
       "    </tr>\n",
       "  </tbody>\n",
       "</table>\n",
       "</div>"
      ],
      "text/plain": [
       "          pred\n",
       "0  1146.556888"
      ]
     },
     "execution_count": 8,
     "metadata": {},
     "output_type": "execute_result"
    }
   ],
   "source": [
    "# score_single('{\"latitude_origin\":{\"0\":1.3017751},\"longitude_origin\":{\"0\":103.7992566},\"latitude_destination\":{\"0\":1.3580012},\"longitude_destination\":{\"0\":103.8451597},\"timestamp\":{\"0\":1554809147},\"hour_of_day\":{\"0\":11},\"day_of_week\":{\"0\":1}}')"
   ]
  },
  {
   "cell_type": "markdown",
   "metadata": {},
   "source": [
    "Calculation of RMSE"
   ]
  },
  {
   "cell_type": "code",
   "execution_count": 16,
   "metadata": {},
   "outputs": [
    {
     "data": {
      "text/plain": [
       "189.58138451504158"
      ]
     },
     "execution_count": 16,
     "metadata": {},
     "output_type": "execute_result"
    }
   ],
   "source": [
    "from sklearn.metrics import mean_squared_error\n",
    "\n",
    "mean_squared_error(test_all.pred,target[\"eta\"])**0.5"
   ]
  }
 ],
 "metadata": {
  "kernelspec": {
   "display_name": "Python 3",
   "language": "python",
   "name": "python3"
  },
  "language_info": {
   "codemirror_mode": {
    "name": "ipython",
    "version": 3
   },
   "file_extension": ".py",
   "mimetype": "text/x-python",
   "name": "python",
   "nbconvert_exporter": "python",
   "pygments_lexer": "ipython3",
   "version": "3.7.6"
  }
 },
 "nbformat": 4,
 "nbformat_minor": 4
}

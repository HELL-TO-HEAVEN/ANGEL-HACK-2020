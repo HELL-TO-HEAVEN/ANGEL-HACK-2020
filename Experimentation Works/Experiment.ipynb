{
 "cells": [
  {
   "cell_type": "code",
   "execution_count": 26,
   "metadata": {
    "ExecuteTime": {
     "end_time": "2020-06-19T02:40:08.886323Z",
     "start_time": "2020-06-19T02:40:08.872332Z"
    }
   },
   "outputs": [],
   "source": [
    "import pandas as pd\n",
    "import numpy as np\n",
    "import os\n",
    "import geopandas as gpd\n",
    "import seaborn as sns\n",
    "import networkx as nx\n",
    "import matplotlib.pyplot as plt\n",
    "from math import radians\n",
    "from sklearn.ensemble import RandomForestRegressor\n",
    "from sklearn.metrics import mean_squared_error,mean_absolute_error\n",
    "from category_encoders.cat_boost import CatBoostEncoder\n",
    "from lightgbm import LGBMRegressor\n",
    "from sklearn.model_selection import KFold, StratifiedKFold, train_test_split, cross_val_score\n",
    "from skopt.plots import plot_convergence\n",
    "sns.set()"
   ]
  },
  {
   "cell_type": "code",
   "execution_count": 2,
   "metadata": {
    "ExecuteTime": {
     "end_time": "2020-06-19T02:07:35.058562Z",
     "start_time": "2020-06-19T02:07:35.048564Z"
    }
   },
   "outputs": [],
   "source": [
    "cols=['destination_Region', 'popularity+time', 'timeOnly', 'dayOfWeek', 'hour', 'pathHIndex', 'pathaIndex', 'pathInDegreeIndex', 'pathOutDegreeIndex', 'CountOfGrid', \n",
    "      'destLoad', 'destHIndex', 'pickUpLoad',\n",
    " 'flowType', 'Festival', 'Temp', 'Weather', 'Wind', 'Humidity', 'Barometer', 'Visibility', 'Bus Terminal_pick', 'Business Area_pick',\n",
    " 'HDB_pick', 'Hospital_pick', 'LRT_pick', 'MRT_pick', 'Mall/Supermarket_pick', 'Other Residentials_pick', 'School/Kindergarten_pick',\n",
    " 'University/College_pick', 'Bus Terminal_des', 'Business Area_des', 'HDB_des', 'Hospital_des', 'LRT_des', 'MRT_des',\n",
    " 'Mall/Supermarket_des', 'Other Residentials_des', 'School/Kindergarten_des', 'University/College_des', 'rawlat_pickup', 'rawlng_pickup', 'rawlat_dest', 'rawlng_dest',\n",
    " 'HarvsineDistance', 'TimeInterval', 'PopularPlace', 'Weekend']"
   ]
  },
  {
   "cell_type": "code",
   "execution_count": 3,
   "metadata": {
    "ExecuteTime": {
     "end_time": "2020-06-19T02:07:35.791806Z",
     "start_time": "2020-06-19T02:07:35.165427Z"
    }
   },
   "outputs": [],
   "source": [
    "data =pd.read_csv(\"training_data_v16062020.csv\")"
   ]
  },
  {
   "cell_type": "code",
   "execution_count": 5,
   "metadata": {
    "ExecuteTime": {
     "end_time": "2020-06-19T02:08:14.142717Z",
     "start_time": "2020-06-19T02:08:14.129737Z"
    }
   },
   "outputs": [],
   "source": [
    "trainingData=data[cols]#.select_dtypes(include)"
   ]
  },
  {
   "cell_type": "code",
   "execution_count": 7,
   "metadata": {
    "ExecuteTime": {
     "end_time": "2020-06-19T02:09:03.034878Z",
     "start_time": "2020-06-19T02:09:03.030895Z"
    }
   },
   "outputs": [],
   "source": [
    "encoder=CatBoostEncoder()\n",
    "encoder2=CatBoostEncoder()\n",
    "encoder3=CatBoostEncoder()"
   ]
  },
  {
   "cell_type": "code",
   "execution_count": 8,
   "metadata": {
    "ExecuteTime": {
     "end_time": "2020-06-19T02:09:12.307066Z",
     "start_time": "2020-06-19T02:09:12.286089Z"
    }
   },
   "outputs": [
    {
     "data": {
      "text/plain": [
       "Index(['destination_Region', 'flowType', 'Weather'], dtype='object')"
      ]
     },
     "execution_count": 8,
     "metadata": {},
     "output_type": "execute_result"
    }
   ],
   "source": [
    "trainingData.select_dtypes(include=[\"object\"]).columns"
   ]
  },
  {
   "cell_type": "code",
   "execution_count": 276,
   "metadata": {
    "ExecuteTime": {
     "end_time": "2020-06-19T09:06:51.146048Z",
     "start_time": "2020-06-19T09:06:51.110048Z"
    }
   },
   "outputs": [],
   "source": [
    "X_train, X_test, y_train, y_test = train_test_split(trainingData[cols],\n",
    "                                                    data['answer1'],\n",
    "                                                    test_size = 0.3, \n",
    "                                                    random_state = 10)"
   ]
  },
  {
   "cell_type": "code",
   "execution_count": 138,
   "metadata": {
    "ExecuteTime": {
     "end_time": "2020-06-19T06:54:39.878926Z",
     "start_time": "2020-06-19T06:54:39.873932Z"
    }
   },
   "outputs": [],
   "source": [
    "from skopt import gp_minimize\n",
    "from skopt.space import Real, Integer,Categorical\n",
    "from skopt.utils import use_named_args"
   ]
  },
  {
   "cell_type": "code",
   "execution_count": 132,
   "metadata": {
    "ExecuteTime": {
     "end_time": "2020-06-19T06:48:59.643782Z",
     "start_time": "2020-06-19T06:48:59.411785Z"
    }
   },
   "outputs": [],
   "source": [
    "X_train[\"destination_Region\"]=encoder.fit_transform(X_train[\"destination_Region\"],y_train)\n",
    "X_train[\"flowType\"]=encoder2.fit_transform(X_train[\"flowType\"],y_train)\n",
    "X_train[\"Weather\"]=encoder3.fit_transform(X_train[\"Weather\"],y_train)"
   ]
  },
  {
   "cell_type": "code",
   "execution_count": 133,
   "metadata": {
    "ExecuteTime": {
     "end_time": "2020-06-19T06:49:01.105786Z",
     "start_time": "2020-06-19T06:49:01.023787Z"
    }
   },
   "outputs": [],
   "source": [
    "X_test[\"destination_Region\"]=encoder.transform(X_test[\"destination_Region\"])\n",
    "X_test[\"flowType\"]=encoder2.transform(X_test[\"flowType\"])\n",
    "X_test[\"Weather\"]=encoder3.transform(X_test[\"Weather\"])"
   ]
  },
  {
   "cell_type": "code",
   "execution_count": 22,
   "metadata": {
    "ExecuteTime": {
     "end_time": "2020-06-19T02:21:47.409167Z",
     "start_time": "2020-06-19T02:21:47.274152Z"
    }
   },
   "outputs": [],
   "source": [
    "from xgboost import XGBRegressor\n",
    "\n",
    "model=XGBRegressor(random_state=0)\n",
    "# model.fit(X_train2, y_train2)"
   ]
  },
  {
   "cell_type": "code",
   "execution_count": 44,
   "metadata": {
    "ExecuteTime": {
     "end_time": "2020-06-19T02:46:18.273624Z",
     "start_time": "2020-06-19T02:46:18.266626Z"
    }
   },
   "outputs": [],
   "source": [
    "bds = [Real(0.01, 1.0, 'log-uniform', name='learning_rate'),\n",
    " Real(0.01, 5, name='gamma'),\n",
    "          Integer(1, 50, name=\"max_depth\"),\n",
    "          Integer(2, 300, name='n_estimators'),\n",
    "          Integer(1, 10, name='min_samples_leaf')]"
   ]
  },
  {
   "cell_type": "code",
   "execution_count": 45,
   "metadata": {
    "ExecuteTime": {
     "end_time": "2020-06-19T02:46:19.155666Z",
     "start_time": "2020-06-19T02:46:19.149664Z"
    }
   },
   "outputs": [],
   "source": [
    "@use_named_args(bds)\n",
    "def objective2(**params):\n",
    "    model.set_params(**params)\n",
    "    return -np.mean(cross_val_score(model, X_train, y_train, cv=2, n_jobs=-1, scoring=\"neg_mean_absolute_error\"))"
   ]
  },
  {
   "cell_type": "code",
   "execution_count": 46,
   "metadata": {
    "ExecuteTime": {
     "end_time": "2020-06-19T02:55:59.126389Z",
     "start_time": "2020-06-19T02:46:20.186568Z"
    }
   },
   "outputs": [],
   "source": [
    "res_gp = gp_minimize(objective2, bds, n_calls=25, random_state=0)"
   ]
  },
  {
   "cell_type": "code",
   "execution_count": 47,
   "metadata": {
    "ExecuteTime": {
     "end_time": "2020-06-19T02:56:00.296402Z",
     "start_time": "2020-06-19T02:55:59.981401Z"
    }
   },
   "outputs": [
    {
     "name": "stdout",
     "output_type": "stream",
     "text": [
      "0.021969449275369667 1.7971793131779301 38 183 4\n"
     ]
    },
    {
     "data": {
      "text/plain": [
       "<matplotlib.axes._subplots.AxesSubplot at 0x227a07f2ba8>"
      ]
     },
     "execution_count": 47,
     "metadata": {},
     "output_type": "execute_result"
    },
    {
     "data": {
      "image/png": "[encoded data removed]",
      "text/plain": [
       "<Figure size 432x288 with 1 Axes>"
      ]
     },
     "metadata": {},
     "output_type": "display_data"
    }
   ],
   "source": [
    "print(res_gp.x[0], res_gp.x[1], res_gp.x[2], res_gp.x[3], res_gp.x[4])\n",
    "plot_convergence(res_gp)"
   ]
  },
  {
   "cell_type": "code",
   "execution_count": 56,
   "metadata": {
    "ExecuteTime": {
     "end_time": "2020-06-19T02:58:33.120284Z",
     "start_time": "2020-06-19T02:58:33.115291Z"
    }
   },
   "outputs": [],
   "source": [
    "model=XGBRegressor(learning_rate=0.012674647108651958,gamma=3.070380904824719,max_depth=11\n",
    "                   ,n_estimators=296,min_samples_leaf=6,random_state=0)"
   ]
  },
  {
   "cell_type": "code",
   "execution_count": 57,
   "metadata": {
    "ExecuteTime": {
     "end_time": "2020-06-19T02:59:08.858298Z",
     "start_time": "2020-06-19T02:58:34.006289Z"
    }
   },
   "outputs": [
    {
     "name": "stdout",
     "output_type": "stream",
     "text": [
      "[10:58:34] WARNING: src/objective/regression_obj.cu:152: reg:linear is now deprecated in favor of reg:squarederror.\n"
     ]
    },
    {
     "name": "stderr",
     "output_type": "stream",
     "text": [
      "C:\\Users\\w00478870\\AppData\\Local\\Continuum\\anaconda3\\lib\\site-packages\\xgboost\\core.py:587: FutureWarning: Series.base is deprecated and will be removed in a future version\n",
      "  if getattr(data, 'base', None) is not None and \\\n"
     ]
    },
    {
     "data": {
      "text/plain": [
       "XGBRegressor(gamma=3.070380904824719, learning_rate=0.012674647108651958,\n",
       "             max_depth=11, min_samples_leaf=6, n_estimators=296)"
      ]
     },
     "execution_count": 57,
     "metadata": {},
     "output_type": "execute_result"
    }
   ],
   "source": [
    "model.fit(X_train, y_train)"
   ]
  },
  {
   "cell_type": "code",
   "execution_count": 58,
   "metadata": {
    "ExecuteTime": {
     "end_time": "2020-06-19T02:59:11.802292Z",
     "start_time": "2020-06-19T02:59:09.731287Z"
    }
   },
   "outputs": [
    {
     "data": {
      "text/plain": [
       "(139.07539522898824, 93.34244939998705)"
      ]
     },
     "execution_count": 58,
     "metadata": {},
     "output_type": "execute_result"
    }
   ],
   "source": [
    "np.sqrt(mean_squared_error(y_train,model.predict(X_train))),mean_absolute_error(y_train,model.predict(X_train))"
   ]
  },
  {
   "cell_type": "code",
   "execution_count": 59,
   "metadata": {
    "ExecuteTime": {
     "end_time": "2020-06-19T02:59:13.575292Z",
     "start_time": "2020-06-19T02:59:12.681292Z"
    }
   },
   "outputs": [
    {
     "data": {
      "text/plain": [
       "(208.95289486600038, 142.80012122744606)"
      ]
     },
     "execution_count": 59,
     "metadata": {},
     "output_type": "execute_result"
    }
   ],
   "source": [
    "np.sqrt(mean_squared_error(y_test,model.predict(X_test))),mean_absolute_error(y_test,model.predict(X_test))"
   ]
  },
  {
   "cell_type": "code",
   "execution_count": 62,
   "metadata": {
    "ExecuteTime": {
     "end_time": "2020-06-19T03:10:27.003288Z",
     "start_time": "2020-06-19T03:10:26.992295Z"
    }
   },
   "outputs": [],
   "source": [
    "reg2 = RandomForestRegressor(random_state=0)\n",
    "\n",
    "space  = [Integer(1, 15, name='max_depth'),\n",
    "          Integer(10, 100, name=\"n_estimators\"),\n",
    "          Integer(2, 100, name='min_samples_split'),\n",
    "          Integer(1, 100, name='min_samples_leaf')]\n",
    "\n",
    "@use_named_args(space)\n",
    "def objective(**params):\n",
    "    reg2.set_params(**params)\n",
    "    return -np.mean(cross_val_score(reg2, X_train.fillna(-1), y_train, cv=2, n_jobs=-1, scoring=\"neg_mean_absolute_error\"))"
   ]
  },
  {
   "cell_type": "code",
   "execution_count": 63,
   "metadata": {
    "ExecuteTime": {
     "end_time": "2020-06-19T03:13:08.518104Z",
     "start_time": "2020-06-19T03:10:27.973256Z"
    }
   },
   "outputs": [],
   "source": [
    "res_gp = gp_minimize(objective, space, n_calls=25, random_state=0)"
   ]
  },
  {
   "cell_type": "code",
   "execution_count": 64,
   "metadata": {
    "ExecuteTime": {
     "end_time": "2020-06-19T03:14:55.427914Z",
     "start_time": "2020-06-19T03:14:55.090917Z"
    }
   },
   "outputs": [
    {
     "name": "stdout",
     "output_type": "stream",
     "text": [
      "Best parameters:- max_depth=15- n_estimators=81.000000- min_samples_split=2- min_samples_leaf=8- \n"
     ]
    },
    {
     "data": {
      "text/plain": [
       "<matplotlib.axes._subplots.AxesSubplot at 0x2279f50cf60>"
      ]
     },
     "execution_count": 64,
     "metadata": {},
     "output_type": "execute_result"
    },
    {
     "data": {
      "image/png": "[encoded data removed]",
      "text/plain": [
       "<Figure size 432x288 with 1 Axes>"
      ]
     },
     "metadata": {},
     "output_type": "display_data"
    }
   ],
   "source": [
    "print(\"\"\"Best parameters:- max_depth=%d- n_estimators=%.6f- min_samples_split=%d- min_samples_leaf=%d- \"\"\" % (res_gp.x[0], res_gp.x[1], \n",
    "                            res_gp.x[2], res_gp.x[3]))\n",
    "\n",
    "plot_convergence(res_gp)"
   ]
  },
  {
   "cell_type": "code",
   "execution_count": 90,
   "metadata": {
    "ExecuteTime": {
     "end_time": "2020-06-19T06:19:22.205316Z",
     "start_time": "2020-06-19T06:19:22.201304Z"
    }
   },
   "outputs": [],
   "source": [
    "reg2 = RandomForestRegressor(max_depth=15, min_samples_split=2, n_estimators=81,min_samples_leaf=8,random_state=0)"
   ]
  },
  {
   "cell_type": "code",
   "execution_count": 91,
   "metadata": {
    "ExecuteTime": {
     "end_time": "2020-06-19T06:19:49.527305Z",
     "start_time": "2020-06-19T06:19:23.640313Z"
    }
   },
   "outputs": [
    {
     "data": {
      "text/plain": [
       "RandomForestRegressor(max_depth=15, min_samples_leaf=8, n_estimators=81,\n",
       "                      random_state=0)"
      ]
     },
     "execution_count": 91,
     "metadata": {},
     "output_type": "execute_result"
    }
   ],
   "source": [
    "reg2.fit(X_train.fillna(-1), y_train)"
   ]
  },
  {
   "cell_type": "code",
   "execution_count": 92,
   "metadata": {
    "ExecuteTime": {
     "end_time": "2020-06-19T06:20:06.881148Z",
     "start_time": "2020-06-19T06:20:06.366150Z"
    }
   },
   "outputs": [
    {
     "data": {
      "text/plain": [
       "(194.45000576322875, 111.98875345676572)"
      ]
     },
     "execution_count": 92,
     "metadata": {},
     "output_type": "execute_result"
    }
   ],
   "source": [
    "np.sqrt(mean_squared_error(y_train,reg2.predict(X_train.fillna(-1)))),mean_absolute_error(y_train,reg2.predict(X_train.fillna(-1)))"
   ]
  },
  {
   "cell_type": "code",
   "execution_count": 93,
   "metadata": {
    "ExecuteTime": {
     "end_time": "2020-06-19T06:20:09.365118Z",
     "start_time": "2020-06-19T06:20:09.118120Z"
    }
   },
   "outputs": [
    {
     "data": {
      "text/plain": [
       "(208.02853479645182, 146.26853242559272)"
      ]
     },
     "execution_count": 93,
     "metadata": {},
     "output_type": "execute_result"
    }
   ],
   "source": [
    "np.sqrt(mean_squared_error(y_test,reg2.predict(X_test.fillna(-1)))),mean_absolute_error(y_test,reg2.predict(X_test.fillna(-1)))"
   ]
  },
  {
   "cell_type": "code",
   "execution_count": 74,
   "metadata": {
    "ExecuteTime": {
     "end_time": "2020-06-19T03:22:14.749959Z",
     "start_time": "2020-06-19T03:22:14.745963Z"
    }
   },
   "outputs": [],
   "source": [
    "# np.sqrt(mean_squared_error(data.answer1,reg2.predict(trainingData.fillna(-1))))"
   ]
  },
  {
   "cell_type": "code",
   "execution_count": 95,
   "metadata": {
    "ExecuteTime": {
     "end_time": "2020-06-19T06:20:26.383250Z",
     "start_time": "2020-06-19T06:20:26.346257Z"
    }
   },
   "outputs": [],
   "source": [
    "trainingDataV2=trainingData.fillna(-1).copy()"
   ]
  },
  {
   "cell_type": "code",
   "execution_count": 96,
   "metadata": {
    "ExecuteTime": {
     "end_time": "2020-06-19T06:20:27.864591Z",
     "start_time": "2020-06-19T06:20:27.804528Z"
    }
   },
   "outputs": [],
   "source": [
    "trainingDataV2[\"destination_Region\"]=encoder.transform(trainingDataV2[\"destination_Region\"])\n",
    "trainingDataV2[\"flowType\"]=encoder2.transform(trainingDataV2[\"flowType\"])\n",
    "trainingDataV2[\"Weather\"]=encoder3.transform(trainingDataV2[\"Weather\"])"
   ]
  },
  {
   "cell_type": "code",
   "execution_count": 108,
   "metadata": {
    "ExecuteTime": {
     "end_time": "2020-06-19T06:36:50.175140Z",
     "start_time": "2020-06-19T06:36:50.171145Z"
    }
   },
   "outputs": [],
   "source": [
    "from lightgbm import LGBMRegressor"
   ]
  },
  {
   "cell_type": "code",
   "execution_count": 109,
   "metadata": {
    "ExecuteTime": {
     "end_time": "2020-06-19T06:40:35.867982Z",
     "start_time": "2020-06-19T06:40:35.863984Z"
    }
   },
   "outputs": [],
   "source": [
    "lgb_param_grid = {'n_estimators': [100,400,700,1000],\n",
    "            'learning_rate': [0.01,0.05],\n",
    "            'max_depth': [5,10,15],\n",
    "            'num_leaves': [20,30,50],\n",
    "            'subsample': [0.5, 0.8],\n",
    "            'subsample_freq': [20,50]}"
   ]
  },
  {
   "cell_type": "code",
   "execution_count": 157,
   "metadata": {
    "ExecuteTime": {
     "end_time": "2020-06-19T07:04:51.954594Z",
     "start_time": "2020-06-19T07:04:51.942592Z"
    }
   },
   "outputs": [],
   "source": [
    "lgb_model = LGBMRegressor(random_state=0)\n",
    "\n",
    "space  = [Categorical([\"dart\",\"gbdt\"],name=\"boosting_type\"),\n",
    "          Real(0.01, 0.5, 'log-uniform', name='learning_rate'),\n",
    "            Real(0.1, 0.8, name='subsample'),\n",
    "          Integer(1, 20, name=\"max_depth\"),\n",
    "          Integer(100, 1000, name='n_estimators'),\n",
    "          Integer(2, 50, name='num_leaves'),\n",
    "         Integer(2, 50, name='subsample_freq')]\n",
    "\n",
    "@use_named_args(space)\n",
    "def objective(**params):\n",
    "    lgb_model.set_params(**params)\n",
    "    print(params)\n",
    "#     print(cross_val_score(lgb_model, X_train, y_train, cv=3, n_jobs=-1, scoring=\"neg_mean_absolute_error\"))\n",
    "    return -np.mean(cross_val_score(lgb_model, X_train, y_train, cv=3, n_jobs=-1, scoring=\"neg_mean_absolute_error\"))"
   ]
  },
  {
   "cell_type": "code",
   "execution_count": 249,
   "metadata": {
    "ExecuteTime": {
     "end_time": "2020-06-19T08:54:59.719571Z",
     "start_time": "2020-06-19T08:54:59.716584Z"
    }
   },
   "outputs": [],
   "source": [
    "# for index,item in enumerate(cols):\n",
    "#     if item in [\"destination_Region\", \"flowType\",\"Weather\"]:\n",
    "#         print(index,item)"
   ]
  },
  {
   "cell_type": "code",
   "execution_count": 269,
   "metadata": {
    "ExecuteTime": {
     "end_time": "2020-06-19T09:04:00.358497Z",
     "start_time": "2020-06-19T09:04:00.344495Z"
    }
   },
   "outputs": [],
   "source": [
    "from sklearn.base import BaseEstimator\n",
    "import numpy as np\n",
    "\n",
    "\n",
    "class ColumnSelector(BaseEstimator):\n",
    "    \"\"\"Object for selecting specific columns from a data set.\n",
    "    Parameters\n",
    "    ----------\n",
    "    cols : array-like (default: None)\n",
    "        A list specifying the feature indices to be selected. For example,\n",
    "        [1, 4, 5] to select the 2nd, 5th, and 6th feature columns, and\n",
    "        ['A','C','D'] to select the name of feature columns A, C and D.\n",
    "        If None, returns all columns in the array.\n",
    "    drop_axis : bool (default=False)\n",
    "        Drops last axis if True and the only one column is selected. This\n",
    "        is useful, e.g., when the ColumnSelector is used for selecting\n",
    "        only one column and the resulting array should be fed to e.g.,\n",
    "        a scikit-learn column selector. E.g., instead of returning an\n",
    "        array with shape (n_samples, 1), drop_axis=True will return an\n",
    "        aray with shape (n_samples,).\n",
    "    Examples\n",
    "    -----------\n",
    "    For usage examples, please see\n",
    "    http://rasbt.github.io/mlxtend/user_guide/feature_selection/ColumnSelector/\n",
    "    \"\"\"\n",
    "\n",
    "    def __init__(self, cols=None, drop_axis=False):\n",
    "        self.cols = cols\n",
    "        self.drop_axis = drop_axis\n",
    "\n",
    "    def fit_transform(self, X, y=None):\n",
    "        \"\"\" Return a slice of the input array.\n",
    "        Parameters\n",
    "        ----------\n",
    "        X : {array-like, sparse matrix}, shape = [n_samples, n_features]\n",
    "            Training vectors, where n_samples is the number of samples and\n",
    "            n_features is the number of features.\n",
    "        y : array-like, shape = [n_samples] (default: None)\n",
    "        Returns\n",
    "        ---------\n",
    "        X_slice : shape = [n_samples, k_features]\n",
    "            Subset of the feature space where k_features <= n_features\n",
    "        \"\"\"\n",
    "        return self.transform(X=X, y=y)\n",
    "\n",
    "    def transform(self, X, y=None):\n",
    "        \"\"\" Return a slice of the input array.\n",
    "        Parameters\n",
    "        ----------\n",
    "        X : {array-like, sparse matrix}, shape = [n_samples, n_features]\n",
    "            Training vectors, where n_samples is the number of samples and\n",
    "            n_features is the number of features.\n",
    "        y : array-like, shape = [n_samples] (default: None)\n",
    "        Returns\n",
    "        ---------\n",
    "        X_slice : shape = [n_samples, k_features]\n",
    "            Subset of the feature space where k_features <= n_features\n",
    "        \"\"\"\n",
    "\n",
    "        # We use the loc or iloc accessor if the input is a pandas dataframe\n",
    "        if hasattr(X, 'loc') or hasattr(X, 'iloc'):\n",
    "            if type(self.cols) == tuple:\n",
    "                self.cols = list(self.cols)\n",
    "            types = {type(i) for i in self.cols}\n",
    "            if len(types) > 1:\n",
    "                raise ValueError(\n",
    "                    'Elements in `cols` should be all of the same data type.'\n",
    "                )\n",
    "            if isinstance(self.cols[0], int):\n",
    "                t = X.iloc[:, self.cols].values\n",
    "            elif isinstance(self.cols[0], str):\n",
    "                t = X.loc[:, self.cols].values\n",
    "            else:\n",
    "                raise ValueError(\n",
    "                    'Elements in `cols` should be either `int` or `str`.'\n",
    "                )\n",
    "        else:\n",
    "            t = X[:, self.cols]\n",
    "\n",
    "        if t.shape[-1] == 1 and self.drop_axis:\n",
    "            t = t.reshape(-1)\n",
    "        if len(t.shape) == 1 and not self.drop_axis:\n",
    "            t = t[:, np.newaxis]\n",
    "        return t\n",
    "\n",
    "    def fit(self, X, y=None):\n",
    "        \"\"\" Mock method. Does nothing.\n",
    "        Parameters\n",
    "        ----------\n",
    "        X : {array-like, sparse matrix}, shape = [n_samples, n_features]\n",
    "            Training vectors, where n_samples is the number of samples and\n",
    "            n_features is the number of features.\n",
    "        y : array-like, shape = [n_samples] (default: None)\n",
    "        Returns\n",
    "        ---------\n",
    "        self\n",
    "        \"\"\"\n",
    "        return self"
   ]
  },
  {
   "cell_type": "code",
   "execution_count": 277,
   "metadata": {
    "ExecuteTime": {
     "end_time": "2020-06-19T09:06:58.437573Z",
     "start_time": "2020-06-19T09:06:58.433573Z"
    }
   },
   "outputs": [],
   "source": [
    "from sklearn.preprocessing import StandardScaler\n",
    "from sklearn.pipeline import make_pipeline,FeatureUnion\n",
    "from sklearn.compose import ColumnTransformer, make_column_transformer\n",
    "from sklearn.impute import SimpleImputer"
   ]
  },
  {
   "cell_type": "code",
   "execution_count": 278,
   "metadata": {
    "ExecuteTime": {
     "end_time": "2020-06-19T09:07:00.628848Z",
     "start_time": "2020-06-19T09:07:00.623850Z"
    }
   },
   "outputs": [],
   "source": [
    "colsIndex=list(range(1,49))"
   ]
  },
  {
   "cell_type": "code",
   "execution_count": 279,
   "metadata": {
    "ExecuteTime": {
     "end_time": "2020-06-19T09:07:02.651052Z",
     "start_time": "2020-06-19T09:07:02.645048Z"
    }
   },
   "outputs": [],
   "source": [
    "colsIndex.remove(13)\n",
    "colsIndex.remove(16)"
   ]
  },
  {
   "cell_type": "code",
   "execution_count": 280,
   "metadata": {
    "ExecuteTime": {
     "end_time": "2020-06-19T09:07:04.734052Z",
     "start_time": "2020-06-19T09:07:04.728049Z"
    }
   },
   "outputs": [],
   "source": [
    "ct = ColumnTransformer([(\"ENCODE\", CatBoostEncoder(), [0,13,16]),(\"filler\", SimpleImputer(strategy=\"constant\",fill_value=-1), colsIndex)])"
   ]
  },
  {
   "cell_type": "code",
   "execution_count": 281,
   "metadata": {
    "ExecuteTime": {
     "end_time": "2020-06-19T09:07:06.900055Z",
     "start_time": "2020-06-19T09:07:06.895053Z"
    }
   },
   "outputs": [],
   "source": [
    "finalModel= make_pipeline(ct, LGBMRegressor(boosting_type=\"dart\",learning_rate=0.0716718768261681,subsample=0.8,max_depth=20,n_estimators=1000,num_leaves=50,subsample_freq=2,random_state=0))"
   ]
  },
  {
   "cell_type": "code",
   "execution_count": 237,
   "metadata": {
    "ExecuteTime": {
     "end_time": "2020-06-19T08:53:02.584474Z",
     "start_time": "2020-06-19T08:53:02.233460Z"
    }
   },
   "outputs": [
    {
     "data": {
      "text/plain": [
       "(28000, 49)"
      ]
     },
     "execution_count": 237,
     "metadata": {},
     "output_type": "execute_result"
    }
   ],
   "source": [
    "ct.fit_transform(data[cols],data[\"answer1\"]).shape"
   ]
  },
  {
   "cell_type": "code",
   "execution_count": 158,
   "metadata": {
    "ExecuteTime": {
     "end_time": "2020-06-19T07:19:29.449835Z",
     "start_time": "2020-06-19T07:05:07.993741Z"
    }
   },
   "outputs": [
    {
     "name": "stdout",
     "output_type": "stream",
     "text": [
      "Iteration No: 1 started. Evaluating function at random point.\n",
      "{'boosting_type': 'gbdt', 'learning_rate': 0.2718830808690578, 'subsample': 0.7005619323359299, 'max_depth': 17, 'n_estimators': 661, 'num_leaves': 20, 'subsample_freq': 16}\n",
      "Iteration No: 1 ended. Evaluation done at random point.\n",
      "Time taken: 4.8405\n",
      "Function value obtained: 161.3607\n",
      "Current minimum: 161.3607\n",
      "Iteration No: 2 started. Evaluating function at random point.\n",
      "{'boosting_type': 'dart', 'learning_rate': 0.02905593571504719, 'subsample': 0.434365582124945, 'max_depth': 16, 'n_estimators': 532, 'num_leaves': 21, 'subsample_freq': 42}\n",
      "Iteration No: 2 ended. Evaluation done at random point.\n",
      "Time taken: 16.1880\n",
      "Function value obtained: 170.1425\n",
      "Current minimum: 161.3607\n",
      "Iteration No: 3 started. Evaluating function at random point.\n",
      "{'boosting_type': 'dart', 'learning_rate': 0.12624801786206402, 'subsample': 0.35776907788838364, 'max_depth': 19, 'n_estimators': 226, 'num_leaves': 44, 'subsample_freq': 25}\n",
      "Iteration No: 3 ended. Evaluation done at random point.\n",
      "Time taken: 6.4865\n",
      "Function value obtained: 145.8805\n",
      "Current minimum: 145.8805\n",
      "Iteration No: 4 started. Evaluating function at random point.\n",
      "{'boosting_type': 'gbdt', 'learning_rate': 0.07660826482436302, 'subsample': 0.5752156710832723, 'max_depth': 15, 'n_estimators': 624, 'num_leaves': 28, 'subsample_freq': 38}\n",
      "Iteration No: 4 ended. Evaluation done at random point.\n",
      "Time taken: 5.8295\n",
      "Function value obtained: 148.7328\n",
      "Current minimum: 145.8805\n",
      "Iteration No: 5 started. Evaluating function at random point.\n",
      "{'boosting_type': 'dart', 'learning_rate': 0.06377242129921411, 'subsample': 0.230432640328732, 'max_depth': 15, 'n_estimators': 295, 'num_leaves': 8, 'subsample_freq': 18}\n",
      "Iteration No: 5 ended. Evaluation done at random point.\n",
      "Time taken: 3.2000\n",
      "Function value obtained: 161.3419\n",
      "Current minimum: 145.8805\n",
      "Iteration No: 6 started. Evaluating function at random point.\n",
      "{'boosting_type': 'dart', 'learning_rate': 0.023862578492985922, 'subsample': 0.3705422867881034, 'max_depth': 18, 'n_estimators': 505, 'num_leaves': 31, 'subsample_freq': 45}\n",
      "Iteration No: 6 ended. Evaluation done at random point.\n",
      "Time taken: 19.1231\n",
      "Function value obtained: 196.3635\n",
      "Current minimum: 145.8805\n",
      "Iteration No: 7 started. Evaluating function at random point.\n",
      "{'boosting_type': 'dart', 'learning_rate': 0.4443002074660617, 'subsample': 0.5571980250585565, 'max_depth': 4, 'n_estimators': 422, 'num_leaves': 38, 'subsample_freq': 31}\n",
      "Iteration No: 7 ended. Evaluation done at random point.\n",
      "Time taken: 9.2790\n",
      "Function value obtained: 149.0152\n",
      "Current minimum: 145.8805\n",
      "Iteration No: 8 started. Evaluating function at random point.\n",
      "{'boosting_type': 'dart', 'learning_rate': 0.011622074284526659, 'subsample': 0.5439918405701346, 'max_depth': 19, 'n_estimators': 688, 'num_leaves': 32, 'subsample_freq': 50}\n",
      "Iteration No: 8 ended. Evaluation done at random point.\n",
      "Time taken: 33.4107\n",
      "Function value obtained: 268.6693\n",
      "Current minimum: 145.8805\n",
      "Iteration No: 9 started. Evaluating function at random point.\n",
      "{'boosting_type': 'gbdt', 'learning_rate': 0.05058244315497183, 'subsample': 0.4322882516018891, 'max_depth': 13, 'n_estimators': 404, 'num_leaves': 34, 'subsample_freq': 17}\n",
      "Iteration No: 9 ended. Evaluation done at random point.\n",
      "Time taken: 4.6140\n",
      "Function value obtained: 147.9377\n",
      "Current minimum: 145.8805\n",
      "Iteration No: 10 started. Evaluating function at random point.\n",
      "{'boosting_type': 'gbdt', 'learning_rate': 0.4104806948399021, 'subsample': 0.5637688068650311, 'max_depth': 1, 'n_estimators': 661, 'num_leaves': 34, 'subsample_freq': 49}\n",
      "Iteration No: 10 ended. Evaluation done at random point.\n",
      "Time taken: 1.6850\n",
      "Function value obtained: 160.5151\n",
      "Current minimum: 145.8805\n",
      "Iteration No: 11 started. Searching for the next optimal point.\n",
      "{'boosting_type': 'dart', 'learning_rate': 0.3127360321178592, 'subsample': 0.1, 'max_depth': 19, 'n_estimators': 100, 'num_leaves': 10, 'subsample_freq': 16}\n",
      "Iteration No: 11 ended. Search finished for the next optimal point.\n",
      "Time taken: 1.2480\n",
      "Function value obtained: 158.3666\n",
      "Current minimum: 145.8805\n",
      "Iteration No: 12 started. Searching for the next optimal point.\n",
      "{'boosting_type': 'dart', 'learning_rate': 0.011836239521952757, 'subsample': 0.4311541349529576, 'max_depth': 12, 'n_estimators': 996, 'num_leaves': 24, 'subsample_freq': 7}\n",
      "Iteration No: 12 ended. Search finished for the next optimal point.\n",
      "Time taken: 42.8090\n",
      "Function value obtained: 187.5345\n",
      "Current minimum: 145.8805\n",
      "Iteration No: 13 started. Searching for the next optimal point.\n",
      "{'boosting_type': 'gbdt', 'learning_rate': 0.02926064335146795, 'subsample': 0.40423472143951134, 'max_depth': 2, 'n_estimators': 641, 'num_leaves': 50, 'subsample_freq': 2}\n",
      "Iteration No: 13 ended. Search finished for the next optimal point.\n",
      "Time taken: 2.0650\n",
      "Function value obtained: 153.9745\n",
      "Current minimum: 145.8805\n",
      "Iteration No: 14 started. Searching for the next optimal point.\n",
      "{'boosting_type': 'dart', 'learning_rate': 0.16444764997174074, 'subsample': 0.7591201986494214, 'max_depth': 7, 'n_estimators': 378, 'num_leaves': 5, 'subsample_freq': 49}\n",
      "Iteration No: 14 ended. Search finished for the next optimal point.\n",
      "Time taken: 4.8660\n",
      "Function value obtained: 149.9852\n",
      "Current minimum: 145.8805\n",
      "Iteration No: 15 started. Searching for the next optimal point.\n",
      "{'boosting_type': 'dart', 'learning_rate': 0.49999999999999994, 'subsample': 0.1, 'max_depth': 1, 'n_estimators': 100, 'num_leaves': 50, 'subsample_freq': 2}\n",
      "Iteration No: 15 ended. Search finished for the next optimal point.\n",
      "Time taken: 0.8470\n",
      "Function value obtained: 160.7282\n",
      "Current minimum: 145.8805\n",
      "Iteration No: 16 started. Searching for the next optimal point.\n",
      "{'boosting_type': 'gbdt', 'learning_rate': 0.05180838340546527, 'subsample': 0.1912431145270747, 'max_depth': 2, 'n_estimators': 209, 'num_leaves': 50, 'subsample_freq': 50}\n",
      "Iteration No: 16 ended. Search finished for the next optimal point.\n",
      "Time taken: 1.0760\n",
      "Function value obtained: 155.6199\n",
      "Current minimum: 145.8805\n",
      "Iteration No: 17 started. Searching for the next optimal point.\n",
      "{'boosting_type': 'gbdt', 'learning_rate': 0.11819949054657373, 'subsample': 0.1281909637635641, 'max_depth': 18, 'n_estimators': 722, 'num_leaves': 50, 'subsample_freq': 50}\n",
      "Iteration No: 17 ended. Search finished for the next optimal point.\n",
      "Time taken: 9.1810\n",
      "Function value obtained: 191.1317\n",
      "Current minimum: 145.8805\n",
      "Iteration No: 18 started. Searching for the next optimal point.\n",
      "{'boosting_type': 'dart', 'learning_rate': 0.010003345894608934, 'subsample': 0.19100478843764032, 'max_depth': 19, 'n_estimators': 112, 'num_leaves': 6, 'subsample_freq': 3}\n",
      "Iteration No: 18 ended. Search finished for the next optimal point.\n",
      "Time taken: 1.2800\n",
      "Function value obtained: 692.3458\n",
      "Current minimum: 145.8805\n",
      "Iteration No: 19 started. Searching for the next optimal point.\n",
      "{'boosting_type': 'gbdt', 'learning_rate': 0.02878765264251029, 'subsample': 0.8, 'max_depth': 20, 'n_estimators': 1000, 'num_leaves': 50, 'subsample_freq': 50}\n",
      "Iteration No: 19 ended. Search finished for the next optimal point.\n",
      "Time taken: 15.4000\n",
      "Function value obtained: 145.7896\n",
      "Current minimum: 145.7896\n",
      "Iteration No: 20 started. Searching for the next optimal point.\n",
      "{'boosting_type': 'gbdt', 'learning_rate': 0.09648209953901415, 'subsample': 0.8, 'max_depth': 1, 'n_estimators': 100, 'num_leaves': 50, 'subsample_freq': 50}\n",
      "Iteration No: 20 ended. Search finished for the next optimal point.\n",
      "Time taken: 0.9150\n",
      "Function value obtained: 161.6967\n",
      "Current minimum: 145.7896\n",
      "Iteration No: 21 started. Searching for the next optimal point.\n",
      "{'boosting_type': 'dart', 'learning_rate': 0.49999999999999994, 'subsample': 0.8, 'max_depth': 20, 'n_estimators': 1000, 'num_leaves': 2, 'subsample_freq': 2}\n",
      "Iteration No: 21 ended. Search finished for the next optimal point.\n",
      "Time taken: 9.3050\n",
      "Function value obtained: 157.9551\n",
      "Current minimum: 145.7896\n",
      "Iteration No: 22 started. Searching for the next optimal point.\n",
      "{'boosting_type': 'gbdt', 'learning_rate': 0.49999999999999994, 'subsample': 0.1, 'max_depth': 20, 'n_estimators': 557, 'num_leaves': 2, 'subsample_freq': 2}\n",
      "Iteration No: 22 ended. Search finished for the next optimal point.\n",
      "Time taken: 1.2150\n",
      "Function value obtained: 168.8190\n",
      "Current minimum: 145.7896\n",
      "Iteration No: 23 started. Searching for the next optimal point.\n",
      "{'boosting_type': 'gbdt', 'learning_rate': 0.2544728315483439, 'subsample': 0.8, 'max_depth': 20, 'n_estimators': 326, 'num_leaves': 50, 'subsample_freq': 2}\n",
      "Iteration No: 23 ended. Search finished for the next optimal point.\n",
      "Time taken: 5.2810\n",
      "Function value obtained: 158.2636\n",
      "Current minimum: 145.7896\n",
      "Iteration No: 24 started. Searching for the next optimal point.\n",
      "{'boosting_type': 'gbdt', 'learning_rate': 0.01578865983930019, 'subsample': 0.48726672781230174, 'max_depth': 1, 'n_estimators': 1000, 'num_leaves': 49, 'subsample_freq': 5}\n",
      "Iteration No: 24 ended. Search finished for the next optimal point.\n",
      "Time taken: 2.1720\n",
      "Function value obtained: 161.5595\n",
      "Current minimum: 145.7896\n",
      "Iteration No: 25 started. Searching for the next optimal point.\n",
      "{'boosting_type': 'dart', 'learning_rate': 0.01344602786292345, 'subsample': 0.43888114639692744, 'max_depth': 5, 'n_estimators': 799, 'num_leaves': 40, 'subsample_freq': 2}\n",
      "Iteration No: 25 ended. Search finished for the next optimal point.\n",
      "Time taken: 38.6211\n",
      "Function value obtained: 221.9357\n",
      "Current minimum: 145.7896\n",
      "Iteration No: 26 started. Searching for the next optimal point.\n",
      "{'boosting_type': 'dart', 'learning_rate': 0.04447715387436906, 'subsample': 0.8, 'max_depth': 1, 'n_estimators': 652, 'num_leaves': 50, 'subsample_freq': 50}\n",
      "Iteration No: 26 ended. Search finished for the next optimal point.\n",
      "Time taken: 5.5502\n",
      "Function value obtained: 162.6577\n",
      "Current minimum: 145.7896\n",
      "Iteration No: 27 started. Searching for the next optimal point.\n",
      "{'boosting_type': 'gbdt', 'learning_rate': 0.08559819929728157, 'subsample': 0.1, 'max_depth': 20, 'n_estimators': 367, 'num_leaves': 50, 'subsample_freq': 50}\n",
      "Iteration No: 27 ended. Search finished for the next optimal point.\n",
      "Time taken: 4.4950\n",
      "Function value obtained: 176.1348\n",
      "Current minimum: 145.7896\n",
      "Iteration No: 28 started. Searching for the next optimal point.\n",
      "{'boosting_type': 'dart', 'learning_rate': 0.2579463644143477, 'subsample': 0.8, 'max_depth': 1, 'n_estimators': 1000, 'num_leaves': 2, 'subsample_freq': 50}\n",
      "Iteration No: 28 ended. Search finished for the next optimal point.\n",
      "Time taken: 9.2870\n",
      "Function value obtained: 157.1702\n",
      "Current minimum: 145.7896\n",
      "Iteration No: 29 started. Searching for the next optimal point.\n",
      "{'boosting_type': 'gbdt', 'learning_rate': 0.05445979585686514, 'subsample': 0.8, 'max_depth': 1, 'n_estimators': 1000, 'num_leaves': 2, 'subsample_freq': 2}\n",
      "Iteration No: 29 ended. Search finished for the next optimal point.\n",
      "Time taken: 3.2290\n",
      "Function value obtained: 158.7289\n",
      "Current minimum: 145.7896\n",
      "Iteration No: 30 started. Searching for the next optimal point.\n",
      "{'boosting_type': 'dart', 'learning_rate': 0.1860105439209116, 'subsample': 0.8, 'max_depth': 1, 'n_estimators': 100, 'num_leaves': 2, 'subsample_freq': 50}\n",
      "Iteration No: 30 ended. Search finished for the next optimal point.\n",
      "Time taken: 1.1173\n",
      "Function value obtained: 167.0150\n",
      "Current minimum: 145.7896\n",
      "Iteration No: 31 started. Searching for the next optimal point.\n",
      "{'boosting_type': 'dart', 'learning_rate': 0.026293295390759232, 'subsample': 0.1, 'max_depth': 1, 'n_estimators': 1000, 'num_leaves': 2, 'subsample_freq': 50}\n",
      "Iteration No: 31 ended. Search finished for the next optimal point.\n",
      "Time taken: 9.8982\n",
      "Function value obtained: 162.8701\n",
      "Current minimum: 145.7896\n",
      "Iteration No: 32 started. Searching for the next optimal point.\n",
      "{'boosting_type': 'gbdt', 'learning_rate': 0.49999999999999994, 'subsample': 0.8, 'max_depth': 20, 'n_estimators': 234, 'num_leaves': 2, 'subsample_freq': 50}\n",
      "Iteration No: 32 ended. Search finished for the next optimal point.\n",
      "Time taken: 1.5312\n",
      "Function value obtained: 158.6581\n",
      "Current minimum: 145.7896\n",
      "Iteration No: 33 started. Searching for the next optimal point.\n",
      "{'boosting_type': 'gbdt', 'learning_rate': 0.033210079003788646, 'subsample': 0.8, 'max_depth': 20, 'n_estimators': 799, 'num_leaves': 2, 'subsample_freq': 2}\n",
      "Iteration No: 33 ended. Search finished for the next optimal point.\n",
      "Time taken: 3.1461\n",
      "Function value obtained: 159.6129\n",
      "Current minimum: 145.7896\n",
      "Iteration No: 34 started. Searching for the next optimal point.\n",
      "{'boosting_type': 'gbdt', 'learning_rate': 0.04852145680565359, 'subsample': 0.8, 'max_depth': 1, 'n_estimators': 467, 'num_leaves': 50, 'subsample_freq': 2}\n",
      "Iteration No: 34 ended. Search finished for the next optimal point.\n",
      "Time taken: 2.2860\n",
      "Function value obtained: 160.0377\n",
      "Current minimum: 145.7896\n",
      "Iteration No: 35 started. Searching for the next optimal point.\n",
      "{'boosting_type': 'gbdt', 'learning_rate': 0.36772739241952107, 'subsample': 0.1, 'max_depth': 1, 'n_estimators': 1000, 'num_leaves': 50, 'subsample_freq': 23}\n",
      "Iteration No: 35 ended. Search finished for the next optimal point.\n",
      "Time taken: 1.8055\n",
      "Function value obtained: 170.4145\n",
      "Current minimum: 145.7896\n",
      "Iteration No: 36 started. Searching for the next optimal point.\n",
      "{'boosting_type': 'dart', 'learning_rate': 0.32679077285870717, 'subsample': 0.8, 'max_depth': 1, 'n_estimators': 357, 'num_leaves': 2, 'subsample_freq': 50}\n",
      "Iteration No: 36 ended. Search finished for the next optimal point.\n",
      "Time taken: 2.6950\n",
      "Function value obtained: 158.3422\n",
      "Current minimum: 145.7896\n",
      "Iteration No: 37 started. Searching for the next optimal point.\n",
      "{'boosting_type': 'dart', 'learning_rate': 0.10858728108385571, 'subsample': 0.8, 'max_depth': 20, 'n_estimators': 1000, 'num_leaves': 50, 'subsample_freq': 2}\n",
      "Iteration No: 37 ended. Search finished for the next optimal point.\n",
      "Time taken: 68.4112\n",
      "Function value obtained: 142.3760\n",
      "Current minimum: 142.3760\n",
      "Iteration No: 38 started. Searching for the next optimal point.\n",
      "{'boosting_type': 'dart', 'learning_rate': 0.15616704917569005, 'subsample': 0.8, 'max_depth': 20, 'n_estimators': 1000, 'num_leaves': 50, 'subsample_freq': 2}\n",
      "Iteration No: 38 ended. Search finished for the next optimal point.\n",
      "Time taken: 69.2508\n",
      "Function value obtained: 144.2854\n",
      "Current minimum: 142.3760\n",
      "Iteration No: 39 started. Searching for the next optimal point.\n",
      "{'boosting_type': 'dart', 'learning_rate': 0.0871952569804692, 'subsample': 0.8, 'max_depth': 20, 'n_estimators': 1000, 'num_leaves': 50, 'subsample_freq': 50}\n",
      "Iteration No: 39 ended. Search finished for the next optimal point.\n",
      "Time taken: 73.4868\n",
      "Function value obtained: 142.3912\n",
      "Current minimum: 142.3760\n",
      "Iteration No: 40 started. Searching for the next optimal point.\n",
      "{'boosting_type': 'gbdt', 'learning_rate': 0.11768114804008614, 'subsample': 0.8, 'max_depth': 20, 'n_estimators': 1000, 'num_leaves': 2, 'subsample_freq': 50}\n",
      "Iteration No: 40 ended. Search finished for the next optimal point.\n",
      "Time taken: 3.2341\n",
      "Function value obtained: 157.3494\n",
      "Current minimum: 142.3760\n",
      "Iteration No: 41 started. Searching for the next optimal point.\n",
      "{'boosting_type': 'dart', 'learning_rate': 0.023360494614863916, 'subsample': 0.8, 'max_depth': 20, 'n_estimators': 1000, 'num_leaves': 50, 'subsample_freq': 2}\n",
      "Iteration No: 41 ended. Search finished for the next optimal point.\n",
      "Time taken: 69.1866\n",
      "Function value obtained: 148.1141\n",
      "Current minimum: 142.3760\n",
      "Iteration No: 42 started. Searching for the next optimal point.\n",
      "{'boosting_type': 'dart', 'learning_rate': 0.0716718768261681, 'subsample': 0.8, 'max_depth': 20, 'n_estimators': 1000, 'num_leaves': 50, 'subsample_freq': 2}\n",
      "Iteration No: 42 ended. Search finished for the next optimal point.\n",
      "Time taken: 75.9807\n",
      "Function value obtained: 141.5841\n",
      "Current minimum: 141.5841\n",
      "Iteration No: 43 started. Searching for the next optimal point.\n",
      "{'boosting_type': 'dart', 'learning_rate': 0.08996421867250125, 'subsample': 0.8, 'max_depth': 1, 'n_estimators': 1000, 'num_leaves': 50, 'subsample_freq': 2}\n",
      "Iteration No: 43 ended. Search finished for the next optimal point.\n",
      "Time taken: 10.2106\n",
      "Function value obtained: 158.8494\n",
      "Current minimum: 141.5841\n",
      "Iteration No: 44 started. Searching for the next optimal point.\n",
      "{'boosting_type': 'gbdt', 'learning_rate': 0.04235576292513147, 'subsample': 0.3744320781368411, 'max_depth': 20, 'n_estimators': 1000, 'num_leaves': 50, 'subsample_freq': 2}\n",
      "Iteration No: 44 ended. Search finished for the next optimal point.\n",
      "Time taken: 16.8395\n",
      "Function value obtained: 150.1259\n",
      "Current minimum: 141.5841\n",
      "Iteration No: 45 started. Searching for the next optimal point.\n",
      "{'boosting_type': 'dart', 'learning_rate': 0.050623356383710766, 'subsample': 0.8, 'max_depth': 20, 'n_estimators': 1000, 'num_leaves': 50, 'subsample_freq': 50}\n",
      "Iteration No: 45 ended. Search finished for the next optimal point.\n",
      "Time taken: 73.4149\n",
      "Function value obtained: 141.8187\n",
      "Current minimum: 141.5841\n",
      "Iteration No: 46 started. Searching for the next optimal point.\n",
      "{'boosting_type': 'dart', 'learning_rate': 0.07172572498724528, 'subsample': 0.8, 'max_depth': 20, 'n_estimators': 100, 'num_leaves': 50, 'subsample_freq': 2}\n",
      "Iteration No: 46 ended. Search finished for the next optimal point.\n",
      "Time taken: 3.3920\n",
      "Function value obtained: 229.1865\n",
      "Current minimum: 141.5841\n",
      "Iteration No: 47 started. Searching for the next optimal point.\n",
      "{'boosting_type': 'dart', 'learning_rate': 0.49999999999999994, 'subsample': 0.8, 'max_depth': 20, 'n_estimators': 768, 'num_leaves': 2, 'subsample_freq': 2}\n",
      "Iteration No: 47 ended. Search finished for the next optimal point.\n",
      "Time taken: 7.6073\n",
      "Function value obtained: 158.0605\n",
      "Current minimum: 141.5841\n",
      "Iteration No: 48 started. Searching for the next optimal point.\n",
      "{'boosting_type': 'gbdt', 'learning_rate': 0.12074612184273432, 'subsample': 0.1, 'max_depth': 1, 'n_estimators': 273, 'num_leaves': 50, 'subsample_freq': 2}\n",
      "Iteration No: 48 ended. Search finished for the next optimal point.\n",
      "Time taken: 1.3786\n",
      "Function value obtained: 160.9723\n",
      "Current minimum: 141.5841\n",
      "Iteration No: 49 started. Searching for the next optimal point.\n",
      "{'boosting_type': 'dart', 'learning_rate': 0.2879655669606957, 'subsample': 0.8, 'max_depth': 20, 'n_estimators': 575, 'num_leaves': 50, 'subsample_freq': 50}\n",
      "Iteration No: 49 ended. Search finished for the next optimal point.\n",
      "Time taken: 31.4882\n",
      "Function value obtained: 145.2692\n",
      "Current minimum: 141.5841\n",
      "Iteration No: 50 started. Searching for the next optimal point.\n",
      "{'boosting_type': 'dart', 'learning_rate': 0.038514909087734375, 'subsample': 0.8, 'max_depth': 20, 'n_estimators': 1000, 'num_leaves': 50, 'subsample_freq': 50}\n",
      "Iteration No: 50 ended. Search finished for the next optimal point.\n",
      "Time taken: 71.5025\n",
      "Function value obtained: 142.5525\n",
      "Current minimum: 141.5841\n"
     ]
    }
   ],
   "source": [
    "res_gp = gp_minimize(objective, space, n_calls=50,random_state=0,verbose=True)"
   ]
  },
  {
   "cell_type": "code",
   "execution_count": 159,
   "metadata": {
    "ExecuteTime": {
     "end_time": "2020-06-19T07:20:20.612626Z",
     "start_time": "2020-06-19T07:20:20.248629Z"
    }
   },
   "outputs": [
    {
     "name": "stdout",
     "output_type": "stream",
     "text": [
      "['dart', 0.0716718768261681, 0.8, 20, 1000, 50, 2]\n"
     ]
    },
    {
     "data": {
      "text/plain": [
       "<matplotlib.axes._subplots.AxesSubplot at 0x2279f461320>"
      ]
     },
     "execution_count": 159,
     "metadata": {},
     "output_type": "execute_result"
    },
    {
     "data": {
      "image/png": "[encoded data removed]",
      "text/plain": [
       "<Figure size 432x288 with 1 Axes>"
      ]
     },
     "metadata": {},
     "output_type": "display_data"
    }
   ],
   "source": [
    "print(res_gp.x)\n",
    "\n",
    "plot_convergence(res_gp)"
   ]
  },
  {
   "cell_type": "code",
   "execution_count": 240,
   "metadata": {
    "ExecuteTime": {
     "end_time": "2020-06-19T08:53:26.354452Z",
     "start_time": "2020-06-19T08:53:26.347454Z"
    }
   },
   "outputs": [
    {
     "data": {
      "text/plain": [
       "49"
      ]
     },
     "execution_count": 240,
     "metadata": {},
     "output_type": "execute_result"
    }
   ],
   "source": [
    "len(X_train.columns)"
   ]
  },
  {
   "cell_type": "code",
   "execution_count": 282,
   "metadata": {
    "ExecuteTime": {
     "end_time": "2020-06-19T09:07:45.604866Z",
     "start_time": "2020-06-19T09:07:10.813578Z"
    }
   },
   "outputs": [
    {
     "data": {
      "text/plain": [
       "Pipeline(steps=[('columntransformer',\n",
       "                 ColumnTransformer(transformers=[('ENCODE', CatBoostEncoder(),\n",
       "                                                  [0, 13, 16]),\n",
       "                                                 ('filler',\n",
       "                                                  SimpleImputer(fill_value=-1,\n",
       "                                                                strategy='constant'),\n",
       "                                                  [1, 2, 3, 4, 5, 6, 7, 8, 9,\n",
       "                                                   10, 11, 12, 14, 15, 17, 18,\n",
       "                                                   19, 20, 21, 22, 23, 24, 25,\n",
       "                                                   26, 27, 28, 29, 30, 31, 32, ...])])),\n",
       "                ('lgbmregressor',\n",
       "                 LGBMRegressor(boosting_type='dart',\n",
       "                               learning_rate=0.0716718768261681, max_depth=20,\n",
       "                               n_estimators=1000, num_leaves=50, random_state=0,\n",
       "                               subsample=0.8, subsample_freq=2))])"
      ]
     },
     "execution_count": 282,
     "metadata": {},
     "output_type": "execute_result"
    }
   ],
   "source": [
    "finalModel.fit(X_train, y_train)"
   ]
  },
  {
   "cell_type": "code",
   "execution_count": 266,
   "metadata": {
    "ExecuteTime": {
     "end_time": "2020-06-19T08:57:22.388494Z",
     "start_time": "2020-06-19T08:57:22.384497Z"
    }
   },
   "outputs": [],
   "source": [
    "import joblib"
   ]
  },
  {
   "cell_type": "code",
   "execution_count": 285,
   "metadata": {
    "ExecuteTime": {
     "end_time": "2020-06-19T09:08:33.736589Z",
     "start_time": "2020-06-19T09:08:33.454078Z"
    }
   },
   "outputs": [
    {
     "data": {
      "text/plain": [
       "['finalLGBMWithPipeline.pkl']"
      ]
     },
     "execution_count": 285,
     "metadata": {},
     "output_type": "execute_result"
    }
   ],
   "source": [
    "joblib.dump(finalModel,\"finalLGBMWithPipeline.pkl\")"
   ]
  },
  {
   "cell_type": "code",
   "execution_count": 283,
   "metadata": {
    "ExecuteTime": {
     "end_time": "2020-06-19T09:07:48.022873Z",
     "start_time": "2020-06-19T09:07:47.626869Z"
    }
   },
   "outputs": [
    {
     "data": {
      "text/plain": [
       "204.55553263730263"
      ]
     },
     "execution_count": 283,
     "metadata": {},
     "output_type": "execute_result"
    }
   ],
   "source": [
    "mean_squared_error(y_test,finalModel.predict(X_test))**0.5"
   ]
  },
  {
   "cell_type": "code",
   "execution_count": 160,
   "metadata": {
    "ExecuteTime": {
     "end_time": "2020-06-19T07:21:42.630296Z",
     "start_time": "2020-06-19T07:21:42.624300Z"
    }
   },
   "outputs": [],
   "source": [
    "lgb_model = LGBMRegressor(boosting_type=\"dart\",learning_rate=0.0716718768261681,subsample=0.8,max_depth=20,n_estimators=1000,num_leaves=50,subsample_freq=2,random_state=0)\n",
    "\n",
    "lgb_model.fit(X_train, y_train)"
   ]
  },
  {
   "cell_type": "code",
   "execution_count": 163,
   "metadata": {
    "ExecuteTime": {
     "end_time": "2020-06-19T07:22:58.190705Z",
     "start_time": "2020-06-19T07:22:56.906709Z"
    }
   },
   "outputs": [
    {
     "data": {
      "text/plain": [
       "(0.8073845597102502, 0.6147060363051555)"
      ]
     },
     "execution_count": 163,
     "metadata": {},
     "output_type": "execute_result"
    }
   ],
   "source": [
    "lgb_model.score(X_train, y_train),lgb_model.score(X_test, y_test)"
   ]
  },
  {
   "cell_type": "code",
   "execution_count": 165,
   "metadata": {
    "ExecuteTime": {
     "end_time": "2020-06-19T07:23:55.216537Z",
     "start_time": "2020-06-19T07:23:54.792011Z"
    }
   },
   "outputs": [
    {
     "data": {
      "text/plain": [
       "204.37424321470695"
      ]
     },
     "execution_count": 165,
     "metadata": {},
     "output_type": "execute_result"
    }
   ],
   "source": [
    "mean_squared_error(y_test,lgb_model.predict(X_test))**0.5"
   ]
  },
  {
   "cell_type": "code",
   "execution_count": 179,
   "metadata": {
    "ExecuteTime": {
     "end_time": "2020-06-19T07:30:34.394072Z",
     "start_time": "2020-06-19T07:30:34.381077Z"
    }
   },
   "outputs": [],
   "source": [
    "ggwp=data.groupby(\"Weather\").agg({\"answer1\":\"median\"}).sort_values(\"answer1\")#.to_dict()"
   ]
  },
  {
   "cell_type": "code",
   "execution_count": 180,
   "metadata": {
    "ExecuteTime": {
     "end_time": "2020-06-19T07:30:39.995124Z",
     "start_time": "2020-06-19T07:30:39.989128Z"
    }
   },
   "outputs": [
    {
     "data": {
      "text/plain": [
       "(18, 1)"
      ]
     },
     "execution_count": 180,
     "metadata": {},
     "output_type": "execute_result"
    }
   ],
   "source": [
    "ggwp.shape"
   ]
  },
  {
   "cell_type": "code",
   "execution_count": 181,
   "metadata": {
    "ExecuteTime": {
     "end_time": "2020-06-19T07:30:43.296891Z",
     "start_time": "2020-06-19T07:30:43.290888Z"
    }
   },
   "outputs": [],
   "source": [
    "ggwp.answer1=np.arange(1,19)"
   ]
  },
  {
   "cell_type": "code",
   "execution_count": 182,
   "metadata": {
    "ExecuteTime": {
     "end_time": "2020-06-19T07:30:44.806896Z",
     "start_time": "2020-06-19T07:30:44.798926Z"
    }
   },
   "outputs": [
    {
     "data": {
      "text/plain": [
       "{'answer1': {'Sprinkles Scattered clouds': 1,\n",
       "  'Sprinkles Partly sunny': 2,\n",
       "  'Rain showers Passing clouds': 3,\n",
       "  'Thunderstorms Scattered clouds': 4,\n",
       "  'Partly cloudy': 5,\n",
       "  'Thundershowers Scattered clouds': 6,\n",
       "  'Passing clouds': 7,\n",
       "  'Lots of rain Scattered clouds': 8,\n",
       "  'Scattered showers Partly sunny': 9,\n",
       "  'Partly sunny': 10,\n",
       "  'Scattered clouds': 11,\n",
       "  'Light rain Partly sunny': 12,\n",
       "  'Thunderstorms Partly sunny': 13,\n",
       "  'Scattered showers Scattered clouds': 14,\n",
       "  'Broken clouds': 15,\n",
       "  'Thunderstorms Passing clouds': 16,\n",
       "  'Thundershowers Partly sunny': 17,\n",
       "  'Thunderstorms Broken clouds': 18}}"
      ]
     },
     "execution_count": 182,
     "metadata": {},
     "output_type": "execute_result"
    }
   ],
   "source": [
    "ggwp.to_dict()"
   ]
  },
  {
   "cell_type": "code",
   "execution_count": 184,
   "metadata": {
    "ExecuteTime": {
     "end_time": "2020-06-19T07:31:26.514579Z",
     "start_time": "2020-06-19T07:31:26.504579Z"
    }
   },
   "outputs": [],
   "source": [
    "region_map={'CENTRAL REGION': 1,\n",
    "  'NORTH-EAST REGION': 2,\n",
    "  'NORTH REGION': 3,\n",
    "  'EAST REGION': 4,\n",
    "  'WEST REGION': 5}\n",
    "\n",
    "flow_map= {'WEST REGION->WEST REGION': 1,\n",
    "  'NORTH REGION->NORTH-EAST REGION': 2,\n",
    "  'NORTH REGION->NORTH REGION': 3,\n",
    "  'NORTH-EAST REGION->EAST REGION': 4,\n",
    "  'NORTH-EAST REGION->NORTH-EAST REGION': 5,\n",
    "  'EAST REGION->EAST REGION': 6,\n",
    "  'CENTRAL REGION->CENTRAL REGION': 7,\n",
    "  'EAST REGION->NORTH-EAST REGION': 8,\n",
    "  'NORTH-EAST REGION->NORTH REGION': 9,\n",
    "  'EAST REGION->CENTRAL REGION': 10,\n",
    "  'NORTH-EAST REGION->CENTRAL REGION': 11,\n",
    "  'WEST REGION->NORTH REGION': 12,\n",
    "  'WEST REGION->CENTRAL REGION': 13,\n",
    "  'CENTRAL REGION->NORTH-EAST REGION': 14,\n",
    "  'CENTRAL REGION->WEST REGION': 15,\n",
    "  'CENTRAL REGION->EAST REGION': 16,\n",
    "  'NORTH REGION->WEST REGION': 17,\n",
    "  'NORTH REGION->CENTRAL REGION': 18,\n",
    "  'CENTRAL REGION->NORTH REGION': 19,\n",
    "  'NORTH REGION->EAST REGION': 20,\n",
    "  'EAST REGION->NORTH REGION': 21,\n",
    "  'WEST REGION->NORTH-EAST REGION': 22,\n",
    "  'NORTH-EAST REGION->WEST REGION': 23,\n",
    "  'WEST REGION->EAST REGION': 24,\n",
    "  'EAST REGION->WEST REGION': 25}\n",
    "    \n",
    "    \n",
    "weather_map={'Sprinkles Scattered clouds': 1,\n",
    "  'Sprinkles Partly sunny': 2,\n",
    "  'Rain showers Passing clouds': 3,\n",
    "  'Thunderstorms Scattered clouds': 4,\n",
    "  'Partly cloudy': 5,\n",
    "  'Thundershowers Scattered clouds': 6,\n",
    "  'Passing clouds': 7,\n",
    "  'Lots of rain Scattered clouds': 8,\n",
    "  'Scattered showers Partly sunny': 9,\n",
    "  'Partly sunny': 10,\n",
    "  'Scattered clouds': 11,\n",
    "  'Light rain Partly sunny': 12,\n",
    "  'Thunderstorms Partly sunny': 13,\n",
    "  'Scattered showers Scattered clouds': 14,\n",
    "  'Broken clouds': 15,\n",
    "  'Thunderstorms Passing clouds': 16,\n",
    "  'Thundershowers Partly sunny': 17,\n",
    "  'Thunderstorms Broken clouds': 18}"
   ]
  },
  {
   "cell_type": "code",
   "execution_count": 185,
   "metadata": {
    "ExecuteTime": {
     "end_time": "2020-06-19T07:32:02.015009Z",
     "start_time": "2020-06-19T07:32:01.961985Z"
    }
   },
   "outputs": [],
   "source": [
    "X_train2, X_test2, y_train2, y_test2 = train_test_split(trainingData[cols].fillna(-1),\n",
    "                                                    data['answer1'],\n",
    "                                                    test_size = 0.3, \n",
    "                                                    random_state = 10)"
   ]
  },
  {
   "cell_type": "code",
   "execution_count": 188,
   "metadata": {
    "ExecuteTime": {
     "end_time": "2020-06-19T07:36:45.849334Z",
     "start_time": "2020-06-19T07:36:45.827341Z"
    }
   },
   "outputs": [],
   "source": [
    "X_train2[\"destination_Region\"]=X_train2[\"destination_Region\"].map(region_map).fillna(-1)\n",
    "X_train2[\"flowType\"]=X_train2[\"flowType\"].map(flow_map).fillna(-1)\n",
    "X_train2[\"Weather\"]=X_train2[\"Weather\"].map(weather_map).fillna(-1)"
   ]
  },
  {
   "cell_type": "code",
   "execution_count": 191,
   "metadata": {
    "ExecuteTime": {
     "end_time": "2020-06-19T07:37:44.430095Z",
     "start_time": "2020-06-19T07:37:44.410103Z"
    }
   },
   "outputs": [],
   "source": [
    "X_test2[\"destination_Region\"]=X_test2[\"destination_Region\"].map(region_map).fillna(-1)\n",
    "X_test2[\"flowType\"]=X_test2[\"flowType\"].map(flow_map).fillna(-1)\n",
    "X_test2[\"Weather\"]=X_test2[\"Weather\"].map(weather_map).fillna(-1)"
   ]
  },
  {
   "cell_type": "code",
   "execution_count": 189,
   "metadata": {
    "ExecuteTime": {
     "end_time": "2020-06-19T07:37:24.697993Z",
     "start_time": "2020-06-19T07:36:47.736898Z"
    }
   },
   "outputs": [
    {
     "data": {
      "text/plain": [
       "LGBMRegressor(boosting_type='dart', learning_rate=0.0716718768261681,\n",
       "              max_depth=20, n_estimators=1000, num_leaves=50, random_state=0,\n",
       "              subsample=0.8, subsample_freq=2)"
      ]
     },
     "execution_count": 189,
     "metadata": {},
     "output_type": "execute_result"
    }
   ],
   "source": [
    "lgb_model = LGBMRegressor(boosting_type=\"dart\",learning_rate=0.0716718768261681,subsample=0.8,max_depth=20,n_estimators=1000,num_leaves=50,subsample_freq=2,random_state=0)\n",
    "\n",
    "lgb_model.fit(X_train2, y_train2)"
   ]
  },
  {
   "cell_type": "code",
   "execution_count": 192,
   "metadata": {
    "ExecuteTime": {
     "end_time": "2020-06-19T07:37:50.185852Z",
     "start_time": "2020-06-19T07:37:49.772853Z"
    }
   },
   "outputs": [
    {
     "data": {
      "text/plain": [
       "205.58361242276095"
      ]
     },
     "execution_count": 192,
     "metadata": {},
     "output_type": "execute_result"
    }
   ],
   "source": [
    "mean_squared_error(y_test2,lgb_model.predict(X_test2))**0.5"
   ]
  },
  {
   "cell_type": "code",
   "execution_count": null,
   "metadata": {},
   "outputs": [],
   "source": []
  }
 ],
 "metadata": {
  "kernelspec": {
   "display_name": "Python 3",
   "language": "python",
   "name": "python3"
  },
  "language_info": {
   "codemirror_mode": {
    "name": "ipython",
    "version": 3
   },
   "file_extension": ".py",
   "mimetype": "text/x-python",
   "name": "python",
   "nbconvert_exporter": "python",
   "pygments_lexer": "ipython3",
   "version": "3.6.5"
  },
  "toc": {
   "base_numbering": 1,
   "nav_menu": {},
   "number_sections": true,
   "sideBar": true,
   "skip_h1_title": false,
   "title_cell": "Table of Contents",
   "title_sidebar": "Contents",
   "toc_cell": false,
   "toc_position": {},
   "toc_section_display": true,
   "toc_window_display": false
  },
  "varInspector": {
   "cols": {
    "lenName": 16,
    "lenType": 16,
    "lenVar": 40
   },
   "kernels_config": {
    "python": {
     "delete_cmd_postfix": "",
     "delete_cmd_prefix": "del ",
     "library": "var_list.py",
     "varRefreshCmd": "print(var_dic_list())"
    },
    "r": {
     "delete_cmd_postfix": ") ",
     "delete_cmd_prefix": "rm(",
     "library": "var_list.r",
     "varRefreshCmd": "cat(var_dic_list()) "
    }
   },
   "types_to_exclude": [
    "module",
    "function",
    "builtin_function_or_method",
    "instance",
    "_Feature"
   ],
   "window_display": false
  }
 },
 "nbformat": 4,
 "nbformat_minor": 2
}

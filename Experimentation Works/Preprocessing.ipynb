{
 "cells": [
  {
   "cell_type": "code",
   "execution_count": 44,
   "metadata": {
    "ExecuteTime": {
     "end_time": "2020-05-05T13:49:34.445321Z",
     "start_time": "2020-05-05T13:49:33.425297Z"
    }
   },
   "outputs": [],
   "source": [
    "import pandas as pd\n",
    "import numpy as np\n",
    "import os\n",
    "import geopandas as gpd\n",
    "import seaborn as sns\n",
    "import matplotlib.pyplot as plt\n",
    "\n",
    "sns.set()"
   ]
  },
  {
   "cell_type": "markdown",
   "metadata": {},
   "source": [
    "# Loading the data"
   ]
  },
  {
   "cell_type": "code",
   "execution_count": 2,
   "metadata": {
    "ExecuteTime": {
     "end_time": "2020-05-05T13:35:52.583706Z",
     "start_time": "2020-05-05T13:35:52.580706Z"
    }
   },
   "outputs": [],
   "source": [
    "path= \"grab-posis-citySingapore/city=Singapore/\""
   ]
  },
  {
   "cell_type": "code",
   "execution_count": 3,
   "metadata": {
    "ExecuteTime": {
     "end_time": "2020-05-05T13:38:40.122593Z",
     "start_time": "2020-05-05T13:37:33.055750Z"
    }
   },
   "outputs": [
    {
     "name": "stdout",
     "output_type": "stream",
     "text": [
      "part-00003-8bbff892-97d2-4011-9961-703e38972569.c000.snappy.parquet\n",
      "part-00009-8bbff892-97d2-4011-9961-703e38972569.c000.snappy.parquet\n",
      "part-00001-8bbff892-97d2-4011-9961-703e38972569.c000.snappy.parquet\n",
      "part-00005-8bbff892-97d2-4011-9961-703e38972569.c000.snappy.parquet\n",
      "part-00002-8bbff892-97d2-4011-9961-703e38972569.c000.snappy.parquet\n",
      "part-00006-8bbff892-97d2-4011-9961-703e38972569.c000.snappy.parquet\n",
      "part-00007-8bbff892-97d2-4011-9961-703e38972569.c000.snappy.parquet\n",
      "part-00000-8bbff892-97d2-4011-9961-703e38972569.c000.snappy.parquet\n",
      "part-00008-8bbff892-97d2-4011-9961-703e38972569.c000.snappy.parquet\n",
      "part-00004-8bbff892-97d2-4011-9961-703e38972569.c000.snappy.parquet\n"
     ]
    }
   ],
   "source": [
    "finalDF =pd.DataFrame()\n",
    "for item in os.listdir(path):\n",
    "    print(item)\n",
    "    data = pd.read_parquet(path+item)\n",
    "    if finalDF.empty:\n",
    "        finalDF = data\n",
    "    else:\n",
    "        finalDF = finalDF.append(data)"
   ]
  },
  {
   "cell_type": "code",
   "execution_count": 5,
   "metadata": {
    "ExecuteTime": {
     "end_time": "2020-05-05T13:56:57.776101Z",
     "start_time": "2020-05-05T13:56:55.748103Z"
    }
   },
   "outputs": [
    {
     "data": {
      "text/plain": [
       "28000"
      ]
     },
     "execution_count": 5,
     "metadata": {},
     "output_type": "execute_result"
    }
   ],
   "source": [
    "len(finalDF.trj_id.unique())"
   ]
  },
  {
   "cell_type": "code",
   "execution_count": 6,
   "metadata": {
    "ExecuteTime": {
     "end_time": "2020-05-05T13:57:53.465615Z",
     "start_time": "2020-05-05T13:57:51.731551Z"
    }
   },
   "outputs": [],
   "source": [
    "finalDF['Date'] = pd.to_datetime(finalDF.pingtimestamp,unit='s')"
   ]
  },
  {
   "cell_type": "markdown",
   "metadata": {},
   "source": [
    "# Converted to GeoPandas"
   ]
  },
  {
   "cell_type": "code",
   "execution_count": 7,
   "metadata": {
    "ExecuteTime": {
     "end_time": "2020-05-05T14:10:48.933701Z",
     "start_time": "2020-05-05T14:02:23.770412Z"
    }
   },
   "outputs": [],
   "source": [
    "SGGeo=gpd.GeoDataFrame(finalDF, geometry=gpd.points_from_xy(finalDF['rawlng'], finalDF['rawlat']))"
   ]
  },
  {
   "cell_type": "code",
   "execution_count": 8,
   "metadata": {
    "ExecuteTime": {
     "end_time": "2020-05-05T14:11:48.868615Z",
     "start_time": "2020-05-05T14:11:48.773618Z"
    }
   },
   "outputs": [
    {
     "data": {
      "text/html": [
       "<div>\n",
       "<style scoped>\n",
       "    .dataframe tbody tr th:only-of-type {\n",
       "        vertical-align: middle;\n",
       "    }\n",
       "\n",
       "    .dataframe tbody tr th {\n",
       "        vertical-align: top;\n",
       "    }\n",
       "\n",
       "    .dataframe thead th {\n",
       "        text-align: right;\n",
       "    }\n",
       "</style>\n",
       "<table border=\"1\" class=\"dataframe\">\n",
       "  <thead>\n",
       "    <tr style=\"text-align: right;\">\n",
       "      <th></th>\n",
       "      <th>trj_id</th>\n",
       "      <th>driving_mode</th>\n",
       "      <th>osname</th>\n",
       "      <th>pingtimestamp</th>\n",
       "      <th>rawlat</th>\n",
       "      <th>rawlng</th>\n",
       "      <th>speed</th>\n",
       "      <th>bearing</th>\n",
       "      <th>accuracy</th>\n",
       "      <th>Date</th>\n",
       "      <th>geometry</th>\n",
       "    </tr>\n",
       "  </thead>\n",
       "  <tbody>\n",
       "    <tr>\n",
       "      <th>0</th>\n",
       "      <td>68558</td>\n",
       "      <td>car</td>\n",
       "      <td>android</td>\n",
       "      <td>1555121067</td>\n",
       "      <td>1.323986</td>\n",
       "      <td>103.858309</td>\n",
       "      <td>17.907326</td>\n",
       "      <td>46</td>\n",
       "      <td>4.000</td>\n",
       "      <td>2019-04-13 02:04:27</td>\n",
       "      <td>POINT (103.85831 1.32399)</td>\n",
       "    </tr>\n",
       "    <tr>\n",
       "      <th>1</th>\n",
       "      <td>36948</td>\n",
       "      <td>car</td>\n",
       "      <td>ios</td>\n",
       "      <td>1555130814</td>\n",
       "      <td>1.341696</td>\n",
       "      <td>103.748458</td>\n",
       "      <td>21.260078</td>\n",
       "      <td>298</td>\n",
       "      <td>16.000</td>\n",
       "      <td>2019-04-13 04:46:54</td>\n",
       "      <td>POINT (103.74846 1.34170)</td>\n",
       "    </tr>\n",
       "    <tr>\n",
       "      <th>2</th>\n",
       "      <td>56077</td>\n",
       "      <td>car</td>\n",
       "      <td>ios</td>\n",
       "      <td>1555663444</td>\n",
       "      <td>1.326663</td>\n",
       "      <td>103.826176</td>\n",
       "      <td>24.860001</td>\n",
       "      <td>291</td>\n",
       "      <td>10.000</td>\n",
       "      <td>2019-04-19 08:44:04</td>\n",
       "      <td>POINT (103.82618 1.32666)</td>\n",
       "    </tr>\n",
       "    <tr>\n",
       "      <th>3</th>\n",
       "      <td>28481</td>\n",
       "      <td>car</td>\n",
       "      <td>android</td>\n",
       "      <td>1555890407</td>\n",
       "      <td>1.368590</td>\n",
       "      <td>103.748069</td>\n",
       "      <td>13.039229</td>\n",
       "      <td>228</td>\n",
       "      <td>10.477</td>\n",
       "      <td>2019-04-21 23:46:47</td>\n",
       "      <td>POINT (103.74807 1.36859)</td>\n",
       "    </tr>\n",
       "    <tr>\n",
       "      <th>4</th>\n",
       "      <td>83944</td>\n",
       "      <td>car</td>\n",
       "      <td>ios</td>\n",
       "      <td>1554964352</td>\n",
       "      <td>1.273634</td>\n",
       "      <td>103.850378</td>\n",
       "      <td>18.639999</td>\n",
       "      <td>196</td>\n",
       "      <td>10.000</td>\n",
       "      <td>2019-04-11 06:32:32</td>\n",
       "      <td>POINT (103.85038 1.27363)</td>\n",
       "    </tr>\n",
       "  </tbody>\n",
       "</table>\n",
       "</div>"
      ],
      "text/plain": [
       "  trj_id driving_mode   osname  pingtimestamp    rawlat      rawlng  \\\n",
       "0  68558          car  android     1555121067  1.323986  103.858309   \n",
       "1  36948          car      ios     1555130814  1.341696  103.748458   \n",
       "2  56077          car      ios     1555663444  1.326663  103.826176   \n",
       "3  28481          car  android     1555890407  1.368590  103.748069   \n",
       "4  83944          car      ios     1554964352  1.273634  103.850378   \n",
       "\n",
       "       speed  bearing  accuracy                Date                   geometry  \n",
       "0  17.907326       46     4.000 2019-04-13 02:04:27  POINT (103.85831 1.32399)  \n",
       "1  21.260078      298    16.000 2019-04-13 04:46:54  POINT (103.74846 1.34170)  \n",
       "2  24.860001      291    10.000 2019-04-19 08:44:04  POINT (103.82618 1.32666)  \n",
       "3  13.039229      228    10.477 2019-04-21 23:46:47  POINT (103.74807 1.36859)  \n",
       "4  18.639999      196    10.000 2019-04-11 06:32:32  POINT (103.85038 1.27363)  "
      ]
     },
     "execution_count": 8,
     "metadata": {},
     "output_type": "execute_result"
    }
   ],
   "source": [
    "SGGeo.head()"
   ]
  },
  {
   "cell_type": "markdown",
   "metadata": {},
   "source": [
    "# Load the 500m x 500m Hexagon"
   ]
  },
  {
   "cell_type": "code",
   "execution_count": 2,
   "metadata": {
    "ExecuteTime": {
     "end_time": "2020-05-05T14:15:12.245925Z",
     "start_time": "2020-05-05T14:15:11.608922Z"
    }
   },
   "outputs": [],
   "source": [
    "hexagon = gpd.read_file(\"hexagon500.geojson\")"
   ]
  },
  {
   "cell_type": "code",
   "execution_count": 3,
   "metadata": {
    "ExecuteTime": {
     "end_time": "2020-05-05T14:16:07.658061Z",
     "start_time": "2020-05-05T14:16:07.633527Z"
    }
   },
   "outputs": [
    {
     "data": {
      "text/html": [
       "<div>\n",
       "<style scoped>\n",
       "    .dataframe tbody tr th:only-of-type {\n",
       "        vertical-align: middle;\n",
       "    }\n",
       "\n",
       "    .dataframe tbody tr th {\n",
       "        vertical-align: top;\n",
       "    }\n",
       "\n",
       "    .dataframe thead th {\n",
       "        text-align: right;\n",
       "    }\n",
       "</style>\n",
       "<table border=\"1\" class=\"dataframe\">\n",
       "  <thead>\n",
       "    <tr style=\"text-align: right;\">\n",
       "      <th></th>\n",
       "      <th>left</th>\n",
       "      <th>top</th>\n",
       "      <th>right</th>\n",
       "      <th>bottom</th>\n",
       "      <th>id</th>\n",
       "      <th>REGION_N</th>\n",
       "      <th>geometry</th>\n",
       "    </tr>\n",
       "  </thead>\n",
       "  <tbody>\n",
       "    <tr>\n",
       "      <th>0</th>\n",
       "      <td>18226.326168</td>\n",
       "      <td>33756.3343</td>\n",
       "      <td>18803.676437</td>\n",
       "      <td>33256.3343</td>\n",
       "      <td>2554</td>\n",
       "      <td>WEST REGION</td>\n",
       "      <td>MULTIPOLYGON (((103.74550 1.31929, 103.74679 1...</td>\n",
       "    </tr>\n",
       "    <tr>\n",
       "      <th>1</th>\n",
       "      <td>18226.326168</td>\n",
       "      <td>36256.3343</td>\n",
       "      <td>18803.676437</td>\n",
       "      <td>35756.3343</td>\n",
       "      <td>2549</td>\n",
       "      <td>WEST REGION</td>\n",
       "      <td>MULTIPOLYGON (((103.74550 1.34190, 103.74679 1...</td>\n",
       "    </tr>\n",
       "    <tr>\n",
       "      <th>2</th>\n",
       "      <td>18226.326168</td>\n",
       "      <td>32756.3343</td>\n",
       "      <td>18803.676437</td>\n",
       "      <td>32256.3343</td>\n",
       "      <td>2556</td>\n",
       "      <td>WEST REGION</td>\n",
       "      <td>MULTIPOLYGON (((103.74550 1.31025, 103.74679 1...</td>\n",
       "    </tr>\n",
       "    <tr>\n",
       "      <th>3</th>\n",
       "      <td>18226.326168</td>\n",
       "      <td>35256.3343</td>\n",
       "      <td>18803.676437</td>\n",
       "      <td>34756.3343</td>\n",
       "      <td>2551</td>\n",
       "      <td>WEST REGION</td>\n",
       "      <td>MULTIPOLYGON (((103.74550 1.33286, 103.74679 1...</td>\n",
       "    </tr>\n",
       "    <tr>\n",
       "      <th>4</th>\n",
       "      <td>18226.326168</td>\n",
       "      <td>35756.3343</td>\n",
       "      <td>18803.676437</td>\n",
       "      <td>35256.3343</td>\n",
       "      <td>2550</td>\n",
       "      <td>WEST REGION</td>\n",
       "      <td>MULTIPOLYGON (((103.74550 1.33738, 103.74679 1...</td>\n",
       "    </tr>\n",
       "  </tbody>\n",
       "</table>\n",
       "</div>"
      ],
      "text/plain": [
       "           left         top         right      bottom    id     REGION_N  \\\n",
       "0  18226.326168  33756.3343  18803.676437  33256.3343  2554  WEST REGION   \n",
       "1  18226.326168  36256.3343  18803.676437  35756.3343  2549  WEST REGION   \n",
       "2  18226.326168  32756.3343  18803.676437  32256.3343  2556  WEST REGION   \n",
       "3  18226.326168  35256.3343  18803.676437  34756.3343  2551  WEST REGION   \n",
       "4  18226.326168  35756.3343  18803.676437  35256.3343  2550  WEST REGION   \n",
       "\n",
       "                                            geometry  \n",
       "0  MULTIPOLYGON (((103.74550 1.31929, 103.74679 1...  \n",
       "1  MULTIPOLYGON (((103.74550 1.34190, 103.74679 1...  \n",
       "2  MULTIPOLYGON (((103.74550 1.31025, 103.74679 1...  \n",
       "3  MULTIPOLYGON (((103.74550 1.33286, 103.74679 1...  \n",
       "4  MULTIPOLYGON (((103.74550 1.33738, 103.74679 1...  "
      ]
     },
     "execution_count": 3,
     "metadata": {},
     "output_type": "execute_result"
    }
   ],
   "source": [
    "hexagon.head()"
   ]
  },
  {
   "cell_type": "code",
   "execution_count": 59,
   "metadata": {},
   "outputs": [
    {
     "data": {
      "text/plain": [
       "<Geographic 2D CRS: EPSG:4326>\n",
       "Name: WGS 84\n",
       "Axis Info [ellipsoidal]:\n",
       "- Lat[north]: Geodetic latitude (degree)\n",
       "- Lon[east]: Geodetic longitude (degree)\n",
       "Area of Use:\n",
       "- name: World\n",
       "- bounds: (-180.0, -90.0, 180.0, 90.0)\n",
       "Datum: World Geodetic System 1984\n",
       "- Ellipsoid: WGS 84\n",
       "- Prime Meridian: Greenwich"
      ]
     },
     "execution_count": 59,
     "metadata": {},
     "output_type": "execute_result"
    }
   ],
   "source": [
    "hexagon.crs"
   ]
  },
  {
   "cell_type": "code",
   "execution_count": 11,
   "metadata": {
    "scrolled": true
   },
   "outputs": [],
   "source": [
    "SGGeo.crs=hexagon.crs"
   ]
  },
  {
   "cell_type": "code",
   "execution_count": null,
   "metadata": {
    "ExecuteTime": {
     "end_time": "2020-05-05T14:37:44.827230Z",
     "start_time": "2020-05-05T14:37:40.895Z"
    }
   },
   "outputs": [],
   "source": [
    "# SGGeo[['trj_id', 'driving_mode', 'osname', 'pingtimestamp', 'rawlat', 'rawlng',\n",
    "#        'speed', 'bearing', 'accuracy', 'Date']].to_parquet(\"SGGrabPoint.parquet\")"
   ]
  },
  {
   "cell_type": "markdown",
   "metadata": {},
   "source": [
    "# Spatial Join two data source"
   ]
  },
  {
   "cell_type": "code",
   "execution_count": 12,
   "metadata": {
    "ExecuteTime": {
     "end_time": "2020-05-05T14:37:47.433234Z",
     "start_time": "2020-05-05T14:37:47.429228Z"
    },
    "scrolled": true
   },
   "outputs": [],
   "source": [
    "# joinedSGGeo=gpd.sjoin(SGGeo,hexagon[[\"id\",\"REGION_N\",\"geometry\"]], op=\"within\")\n",
    "\n",
    "# SGGeo.shape\n",
    "# joinedSGGeo.shape"
   ]
  },
  {
   "cell_type": "code",
   "execution_count": 4,
   "metadata": {},
   "outputs": [],
   "source": [
    "# joinedSGGeo.drop([\"Date\",\"geometry\"],axis=1).to_parquet(\"finalJoined.parquet\")"
   ]
  },
  {
   "cell_type": "code",
   "execution_count": 5,
   "metadata": {},
   "outputs": [],
   "source": [
    "joinedSGGeo =pd.read_parquet(\"finalJoined.parquet\")"
   ]
  },
  {
   "cell_type": "code",
   "execution_count": 6,
   "metadata": {},
   "outputs": [],
   "source": [
    "joinedSGGeo[\"Date\"]=pd.to_datetime(joinedSGGeo.pingtimestamp,unit='s')"
   ]
  },
  {
   "cell_type": "code",
   "execution_count": 7,
   "metadata": {},
   "outputs": [
    {
     "data": {
      "text/html": [
       "<div>\n",
       "<style scoped>\n",
       "    .dataframe tbody tr th:only-of-type {\n",
       "        vertical-align: middle;\n",
       "    }\n",
       "\n",
       "    .dataframe tbody tr th {\n",
       "        vertical-align: top;\n",
       "    }\n",
       "\n",
       "    .dataframe thead th {\n",
       "        text-align: right;\n",
       "    }\n",
       "</style>\n",
       "<table border=\"1\" class=\"dataframe\">\n",
       "  <thead>\n",
       "    <tr style=\"text-align: right;\">\n",
       "      <th></th>\n",
       "      <th>trj_id</th>\n",
       "      <th>driving_mode</th>\n",
       "      <th>osname</th>\n",
       "      <th>pingtimestamp</th>\n",
       "      <th>rawlat</th>\n",
       "      <th>rawlng</th>\n",
       "      <th>speed</th>\n",
       "      <th>bearing</th>\n",
       "      <th>accuracy</th>\n",
       "      <th>index_right</th>\n",
       "      <th>id</th>\n",
       "      <th>REGION_N</th>\n",
       "      <th>Date</th>\n",
       "    </tr>\n",
       "  </thead>\n",
       "  <tbody>\n",
       "    <tr>\n",
       "      <th>0</th>\n",
       "      <td>68558</td>\n",
       "      <td>car</td>\n",
       "      <td>android</td>\n",
       "      <td>1555121067</td>\n",
       "      <td>1.323986</td>\n",
       "      <td>103.858309</td>\n",
       "      <td>17.907326</td>\n",
       "      <td>46</td>\n",
       "      <td>4.000</td>\n",
       "      <td>2713</td>\n",
       "      <td>4513</td>\n",
       "      <td>CENTRAL REGION</td>\n",
       "      <td>2019-04-13 02:04:27</td>\n",
       "    </tr>\n",
       "    <tr>\n",
       "      <th>50</th>\n",
       "      <td>59459</td>\n",
       "      <td>car</td>\n",
       "      <td>android</td>\n",
       "      <td>1554943584</td>\n",
       "      <td>1.322000</td>\n",
       "      <td>103.856657</td>\n",
       "      <td>12.420000</td>\n",
       "      <td>220</td>\n",
       "      <td>5.360</td>\n",
       "      <td>2713</td>\n",
       "      <td>4513</td>\n",
       "      <td>CENTRAL REGION</td>\n",
       "      <td>2019-04-11 00:46:24</td>\n",
       "    </tr>\n",
       "    <tr>\n",
       "      <th>632</th>\n",
       "      <td>61763</td>\n",
       "      <td>car</td>\n",
       "      <td>ios</td>\n",
       "      <td>1554686279</td>\n",
       "      <td>1.322632</td>\n",
       "      <td>103.857196</td>\n",
       "      <td>21.677340</td>\n",
       "      <td>219</td>\n",
       "      <td>8.000</td>\n",
       "      <td>2713</td>\n",
       "      <td>4513</td>\n",
       "      <td>CENTRAL REGION</td>\n",
       "      <td>2019-04-08 01:17:59</td>\n",
       "    </tr>\n",
       "    <tr>\n",
       "      <th>698</th>\n",
       "      <td>74655</td>\n",
       "      <td>car</td>\n",
       "      <td>ios</td>\n",
       "      <td>1554688154</td>\n",
       "      <td>1.322453</td>\n",
       "      <td>103.857091</td>\n",
       "      <td>6.671047</td>\n",
       "      <td>220</td>\n",
       "      <td>4.000</td>\n",
       "      <td>2713</td>\n",
       "      <td>4513</td>\n",
       "      <td>CENTRAL REGION</td>\n",
       "      <td>2019-04-08 01:49:14</td>\n",
       "    </tr>\n",
       "    <tr>\n",
       "      <th>772</th>\n",
       "      <td>75945</td>\n",
       "      <td>car</td>\n",
       "      <td>android</td>\n",
       "      <td>1555050286</td>\n",
       "      <td>1.322978</td>\n",
       "      <td>103.857478</td>\n",
       "      <td>14.920000</td>\n",
       "      <td>220</td>\n",
       "      <td>4.551</td>\n",
       "      <td>2713</td>\n",
       "      <td>4513</td>\n",
       "      <td>CENTRAL REGION</td>\n",
       "      <td>2019-04-12 06:24:46</td>\n",
       "    </tr>\n",
       "  </tbody>\n",
       "</table>\n",
       "</div>"
      ],
      "text/plain": [
       "    trj_id driving_mode   osname  pingtimestamp    rawlat      rawlng  \\\n",
       "0    68558          car  android     1555121067  1.323986  103.858309   \n",
       "50   59459          car  android     1554943584  1.322000  103.856657   \n",
       "632  61763          car      ios     1554686279  1.322632  103.857196   \n",
       "698  74655          car      ios     1554688154  1.322453  103.857091   \n",
       "772  75945          car  android     1555050286  1.322978  103.857478   \n",
       "\n",
       "         speed  bearing  accuracy  index_right    id        REGION_N  \\\n",
       "0    17.907326       46     4.000         2713  4513  CENTRAL REGION   \n",
       "50   12.420000      220     5.360         2713  4513  CENTRAL REGION   \n",
       "632  21.677340      219     8.000         2713  4513  CENTRAL REGION   \n",
       "698   6.671047      220     4.000         2713  4513  CENTRAL REGION   \n",
       "772  14.920000      220     4.551         2713  4513  CENTRAL REGION   \n",
       "\n",
       "                   Date  \n",
       "0   2019-04-13 02:04:27  \n",
       "50  2019-04-11 00:46:24  \n",
       "632 2019-04-08 01:17:59  \n",
       "698 2019-04-08 01:49:14  \n",
       "772 2019-04-12 06:24:46  "
      ]
     },
     "execution_count": 7,
     "metadata": {},
     "output_type": "execute_result"
    }
   ],
   "source": [
    "joinedSGGeo.head()"
   ]
  },
  {
   "cell_type": "code",
   "execution_count": null,
   "metadata": {},
   "outputs": [],
   "source": []
  },
  {
   "cell_type": "markdown",
   "metadata": {},
   "source": [
    "# Split Training and Testing"
   ]
  },
  {
   "cell_type": "code",
   "execution_count": 8,
   "metadata": {},
   "outputs": [],
   "source": [
    "table2=joinedSGGeo.groupby([\"REGION_N\",\"id\",\"trj_id\"]).agg({\"Date\":[\"min\",\"max\"],\"pingtimestamp\":[\"min\",\"max\",\"mean\"]})\n",
    "table2.columns=[item[0]+\"_\"+item[1] for item in table2.columns]\n",
    "table2['Date_mean'] = pd.to_datetime(table2.pingtimestamp_mean,unit='s')\n",
    "table2=table2.reset_index()\n",
    "table2=table2.sort_values([\"trj_id\",\"pingtimestamp_mean\"])\n",
    "table2[\"dff\"]=table2.groupby(\"trj_id\").pingtimestamp_mean.diff()\n",
    "table2[\"Rank\"]=table2.groupby(\"trj_id\").Date_mean.rank(\"first\")"
   ]
  },
  {
   "cell_type": "markdown",
   "metadata": {},
   "source": [
    "# Form the connection from one polygon to next polygon"
   ]
  },
  {
   "cell_type": "code",
   "execution_count": 9,
   "metadata": {},
   "outputs": [],
   "source": [
    "fromDF =table2[[\"REGION_N\",\"id\",\"trj_id\",\"Date_mean\",\"Rank\"]].copy()\n",
    "toDF =table2[[\"REGION_N\",\"id\",\"trj_id\",\"Date_mean\",\"Rank\",\"dff\"]].copy()\n",
    "toDF[\"Rank\"]=toDF[\"Rank\"]-1\n",
    "toDF.columns=['destination_Region', 'destination_id', 'trj_id', 'destination_Date_mean', 'Rank', 'average_arrival_time']\n",
    "fromDF.columns=['picku_Region', 'pickup_id', 'trj_id', 'pickup_Date_mean', 'Rank']\n",
    "networkData=fromDF.merge(toDF,on=['trj_id',\"Rank\"])"
   ]
  },
  {
   "cell_type": "code",
   "execution_count": 10,
   "metadata": {},
   "outputs": [],
   "source": [
    "networkData[\"diff2\"]=(networkData[\"destination_Date_mean\"]-networkData[\"pickup_Date_mean\"]).apply(lambda x:x.seconds)"
   ]
  },
  {
   "cell_type": "code",
   "execution_count": 43,
   "metadata": {},
   "outputs": [
    {
     "data": {
      "text/html": [
       "<div>\n",
       "<style scoped>\n",
       "    .dataframe tbody tr th:only-of-type {\n",
       "        vertical-align: middle;\n",
       "    }\n",
       "\n",
       "    .dataframe tbody tr th {\n",
       "        vertical-align: top;\n",
       "    }\n",
       "\n",
       "    .dataframe thead th {\n",
       "        text-align: right;\n",
       "    }\n",
       "</style>\n",
       "<table border=\"1\" class=\"dataframe\">\n",
       "  <thead>\n",
       "    <tr style=\"text-align: right;\">\n",
       "      <th></th>\n",
       "      <th>picku_Region</th>\n",
       "      <th>pickup_id</th>\n",
       "      <th>trj_id</th>\n",
       "      <th>pickup_Date_mean</th>\n",
       "      <th>Rank</th>\n",
       "      <th>destination_Region</th>\n",
       "      <th>destination_id</th>\n",
       "      <th>destination_Date_mean</th>\n",
       "      <th>average_arrival_time</th>\n",
       "      <th>diff2</th>\n",
       "    </tr>\n",
       "  </thead>\n",
       "  <tbody>\n",
       "    <tr>\n",
       "      <th>0</th>\n",
       "      <td>CENTRAL REGION</td>\n",
       "      <td>3467</td>\n",
       "      <td>10</td>\n",
       "      <td>2019-04-09 11:25:54.500000000</td>\n",
       "      <td>1.0</td>\n",
       "      <td>CENTRAL REGION</td>\n",
       "      <td>3468</td>\n",
       "      <td>2019-04-09 11:26:04.500000000</td>\n",
       "      <td>10.000000</td>\n",
       "      <td>10</td>\n",
       "    </tr>\n",
       "    <tr>\n",
       "      <th>1</th>\n",
       "      <td>CENTRAL REGION</td>\n",
       "      <td>3468</td>\n",
       "      <td>10</td>\n",
       "      <td>2019-04-09 11:26:04.500000000</td>\n",
       "      <td>2.0</td>\n",
       "      <td>CENTRAL REGION</td>\n",
       "      <td>3538</td>\n",
       "      <td>2019-04-09 11:26:40.274509907</td>\n",
       "      <td>35.774510</td>\n",
       "      <td>35</td>\n",
       "    </tr>\n",
       "    <tr>\n",
       "      <th>2</th>\n",
       "      <td>CENTRAL REGION</td>\n",
       "      <td>3538</td>\n",
       "      <td>10</td>\n",
       "      <td>2019-04-09 11:26:40.274509907</td>\n",
       "      <td>3.0</td>\n",
       "      <td>CENTRAL REGION</td>\n",
       "      <td>3537</td>\n",
       "      <td>2019-04-09 11:27:29.000000000</td>\n",
       "      <td>48.725490</td>\n",
       "      <td>48</td>\n",
       "    </tr>\n",
       "    <tr>\n",
       "      <th>3</th>\n",
       "      <td>CENTRAL REGION</td>\n",
       "      <td>3537</td>\n",
       "      <td>10</td>\n",
       "      <td>2019-04-09 11:27:29.000000000</td>\n",
       "      <td>4.0</td>\n",
       "      <td>CENTRAL REGION</td>\n",
       "      <td>3536</td>\n",
       "      <td>2019-04-09 11:27:59.500000000</td>\n",
       "      <td>30.500000</td>\n",
       "      <td>30</td>\n",
       "    </tr>\n",
       "    <tr>\n",
       "      <th>4</th>\n",
       "      <td>CENTRAL REGION</td>\n",
       "      <td>3536</td>\n",
       "      <td>10</td>\n",
       "      <td>2019-04-09 11:27:59.500000000</td>\n",
       "      <td>5.0</td>\n",
       "      <td>CENTRAL REGION</td>\n",
       "      <td>3605</td>\n",
       "      <td>2019-04-09 11:28:16.500000000</td>\n",
       "      <td>17.000000</td>\n",
       "      <td>17</td>\n",
       "    </tr>\n",
       "    <tr>\n",
       "      <th>...</th>\n",
       "      <td>...</td>\n",
       "      <td>...</td>\n",
       "      <td>...</td>\n",
       "      <td>...</td>\n",
       "      <td>...</td>\n",
       "      <td>...</td>\n",
       "      <td>...</td>\n",
       "      <td>...</td>\n",
       "      <td>...</td>\n",
       "      <td>...</td>\n",
       "    </tr>\n",
       "    <tr>\n",
       "      <th>1275350</th>\n",
       "      <td>CENTRAL REGION</td>\n",
       "      <td>3968</td>\n",
       "      <td>9984</td>\n",
       "      <td>2019-04-20 01:59:48.500000000</td>\n",
       "      <td>45.0</td>\n",
       "      <td>CENTRAL REGION</td>\n",
       "      <td>3969</td>\n",
       "      <td>2019-04-20 02:01:13.262500048</td>\n",
       "      <td>84.762500</td>\n",
       "      <td>84</td>\n",
       "    </tr>\n",
       "    <tr>\n",
       "      <th>1275351</th>\n",
       "      <td>CENTRAL REGION</td>\n",
       "      <td>3969</td>\n",
       "      <td>9984</td>\n",
       "      <td>2019-04-20 02:01:13.262500048</td>\n",
       "      <td>46.0</td>\n",
       "      <td>CENTRAL REGION</td>\n",
       "      <td>4039</td>\n",
       "      <td>2019-04-20 02:02:36.415094376</td>\n",
       "      <td>83.152594</td>\n",
       "      <td>83</td>\n",
       "    </tr>\n",
       "    <tr>\n",
       "      <th>1275352</th>\n",
       "      <td>CENTRAL REGION</td>\n",
       "      <td>4039</td>\n",
       "      <td>9984</td>\n",
       "      <td>2019-04-20 02:02:36.415094376</td>\n",
       "      <td>47.0</td>\n",
       "      <td>CENTRAL REGION</td>\n",
       "      <td>4110</td>\n",
       "      <td>2019-04-20 02:03:27.000000000</td>\n",
       "      <td>50.584906</td>\n",
       "      <td>50</td>\n",
       "    </tr>\n",
       "    <tr>\n",
       "      <th>1275353</th>\n",
       "      <td>CENTRAL REGION</td>\n",
       "      <td>4110</td>\n",
       "      <td>9984</td>\n",
       "      <td>2019-04-20 02:03:27.000000000</td>\n",
       "      <td>48.0</td>\n",
       "      <td>CENTRAL REGION</td>\n",
       "      <td>4180</td>\n",
       "      <td>2019-04-20 02:03:55.500000000</td>\n",
       "      <td>28.500000</td>\n",
       "      <td>28</td>\n",
       "    </tr>\n",
       "    <tr>\n",
       "      <th>1275354</th>\n",
       "      <td>CENTRAL REGION</td>\n",
       "      <td>4180</td>\n",
       "      <td>9984</td>\n",
       "      <td>2019-04-20 02:03:55.500000000</td>\n",
       "      <td>49.0</td>\n",
       "      <td>CENTRAL REGION</td>\n",
       "      <td>4179</td>\n",
       "      <td>2019-04-20 02:04:12.294117689</td>\n",
       "      <td>16.794118</td>\n",
       "      <td>16</td>\n",
       "    </tr>\n",
       "  </tbody>\n",
       "</table>\n",
       "<p>1275355 rows × 10 columns</p>\n",
       "</div>"
      ],
      "text/plain": [
       "           picku_Region  pickup_id trj_id              pickup_Date_mean  Rank  \\\n",
       "0        CENTRAL REGION       3467     10 2019-04-09 11:25:54.500000000   1.0   \n",
       "1        CENTRAL REGION       3468     10 2019-04-09 11:26:04.500000000   2.0   \n",
       "2        CENTRAL REGION       3538     10 2019-04-09 11:26:40.274509907   3.0   \n",
       "3        CENTRAL REGION       3537     10 2019-04-09 11:27:29.000000000   4.0   \n",
       "4        CENTRAL REGION       3536     10 2019-04-09 11:27:59.500000000   5.0   \n",
       "...                 ...        ...    ...                           ...   ...   \n",
       "1275350  CENTRAL REGION       3968   9984 2019-04-20 01:59:48.500000000  45.0   \n",
       "1275351  CENTRAL REGION       3969   9984 2019-04-20 02:01:13.262500048  46.0   \n",
       "1275352  CENTRAL REGION       4039   9984 2019-04-20 02:02:36.415094376  47.0   \n",
       "1275353  CENTRAL REGION       4110   9984 2019-04-20 02:03:27.000000000  48.0   \n",
       "1275354  CENTRAL REGION       4180   9984 2019-04-20 02:03:55.500000000  49.0   \n",
       "\n",
       "        destination_Region  destination_id         destination_Date_mean  \\\n",
       "0           CENTRAL REGION            3468 2019-04-09 11:26:04.500000000   \n",
       "1           CENTRAL REGION            3538 2019-04-09 11:26:40.274509907   \n",
       "2           CENTRAL REGION            3537 2019-04-09 11:27:29.000000000   \n",
       "3           CENTRAL REGION            3536 2019-04-09 11:27:59.500000000   \n",
       "4           CENTRAL REGION            3605 2019-04-09 11:28:16.500000000   \n",
       "...                    ...             ...                           ...   \n",
       "1275350     CENTRAL REGION            3969 2019-04-20 02:01:13.262500048   \n",
       "1275351     CENTRAL REGION            4039 2019-04-20 02:02:36.415094376   \n",
       "1275352     CENTRAL REGION            4110 2019-04-20 02:03:27.000000000   \n",
       "1275353     CENTRAL REGION            4180 2019-04-20 02:03:55.500000000   \n",
       "1275354     CENTRAL REGION            4179 2019-04-20 02:04:12.294117689   \n",
       "\n",
       "         average_arrival_time  diff2  \n",
       "0                   10.000000     10  \n",
       "1                   35.774510     35  \n",
       "2                   48.725490     48  \n",
       "3                   30.500000     30  \n",
       "4                   17.000000     17  \n",
       "...                       ...    ...  \n",
       "1275350             84.762500     84  \n",
       "1275351             83.152594     83  \n",
       "1275352             50.584906     50  \n",
       "1275353             28.500000     28  \n",
       "1275354             16.794118     16  \n",
       "\n",
       "[1275355 rows x 10 columns]"
      ]
     },
     "execution_count": 43,
     "metadata": {},
     "output_type": "execute_result"
    }
   ],
   "source": [
    "networkData"
   ]
  },
  {
   "cell_type": "code",
   "execution_count": 11,
   "metadata": {},
   "outputs": [],
   "source": [
    "aggregatedNetworkData=networkData.groupby([\"pickup_id\",\"destination_id\"]).agg({\"average_arrival_time\":[\"mean\",\"median\",\"std\"],\"trj_id\":\"nunique\"}).reset_index()"
   ]
  },
  {
   "cell_type": "code",
   "execution_count": 12,
   "metadata": {},
   "outputs": [
    {
     "data": {
      "text/html": [
       "<div>\n",
       "<style scoped>\n",
       "    .dataframe tbody tr th:only-of-type {\n",
       "        vertical-align: middle;\n",
       "    }\n",
       "\n",
       "    .dataframe tbody tr th {\n",
       "        vertical-align: top;\n",
       "    }\n",
       "\n",
       "    .dataframe thead tr th {\n",
       "        text-align: left;\n",
       "    }\n",
       "</style>\n",
       "<table border=\"1\" class=\"dataframe\">\n",
       "  <thead>\n",
       "    <tr>\n",
       "      <th></th>\n",
       "      <th>pickup_id</th>\n",
       "      <th>destination_id</th>\n",
       "      <th colspan=\"3\" halign=\"left\">average_arrival_time</th>\n",
       "      <th>trj_id</th>\n",
       "    </tr>\n",
       "    <tr>\n",
       "      <th></th>\n",
       "      <th></th>\n",
       "      <th></th>\n",
       "      <th>mean</th>\n",
       "      <th>median</th>\n",
       "      <th>std</th>\n",
       "      <th>nunique</th>\n",
       "    </tr>\n",
       "  </thead>\n",
       "  <tbody>\n",
       "    <tr>\n",
       "      <th>0</th>\n",
       "      <td>184</td>\n",
       "      <td>185</td>\n",
       "      <td>28.666667</td>\n",
       "      <td>25.000000</td>\n",
       "      <td>6.350853</td>\n",
       "      <td>3</td>\n",
       "    </tr>\n",
       "    <tr>\n",
       "      <th>1</th>\n",
       "      <td>184</td>\n",
       "      <td>253</td>\n",
       "      <td>31.846939</td>\n",
       "      <td>31.846939</td>\n",
       "      <td>5.440393</td>\n",
       "      <td>2</td>\n",
       "    </tr>\n",
       "    <tr>\n",
       "      <th>2</th>\n",
       "      <td>185</td>\n",
       "      <td>184</td>\n",
       "      <td>31.000000</td>\n",
       "      <td>31.000000</td>\n",
       "      <td>NaN</td>\n",
       "      <td>1</td>\n",
       "    </tr>\n",
       "    <tr>\n",
       "      <th>3</th>\n",
       "      <td>185</td>\n",
       "      <td>186</td>\n",
       "      <td>23.833333</td>\n",
       "      <td>23.500000</td>\n",
       "      <td>5.008326</td>\n",
       "      <td>3</td>\n",
       "    </tr>\n",
       "    <tr>\n",
       "      <th>4</th>\n",
       "      <td>186</td>\n",
       "      <td>185</td>\n",
       "      <td>11.500000</td>\n",
       "      <td>11.500000</td>\n",
       "      <td>NaN</td>\n",
       "      <td>1</td>\n",
       "    </tr>\n",
       "  </tbody>\n",
       "</table>\n",
       "</div>"
      ],
      "text/plain": [
       "  pickup_id destination_id average_arrival_time                       trj_id\n",
       "                                           mean     median       std nunique\n",
       "0       184            185            28.666667  25.000000  6.350853       3\n",
       "1       184            253            31.846939  31.846939  5.440393       2\n",
       "2       185            184            31.000000  31.000000       NaN       1\n",
       "3       185            186            23.833333  23.500000  5.008326       3\n",
       "4       186            185            11.500000  11.500000       NaN       1"
      ]
     },
     "execution_count": 12,
     "metadata": {},
     "output_type": "execute_result"
    }
   ],
   "source": [
    "aggregatedNetworkData.head()"
   ]
  },
  {
   "cell_type": "code",
   "execution_count": 13,
   "metadata": {},
   "outputs": [],
   "source": [
    "aggregatedNetworkData.columns=[\"pickup_id\",\"destination_id\",\"mean\",\"median\",\"standardDeviation\",\"trip_count\"]"
   ]
  },
  {
   "cell_type": "code",
   "execution_count": 14,
   "metadata": {},
   "outputs": [],
   "source": [
    "aggregatedNetworkData.standardDeviation=aggregatedNetworkData.standardDeviation.fillna(0)"
   ]
  },
  {
   "cell_type": "code",
   "execution_count": 15,
   "metadata": {},
   "outputs": [],
   "source": [
    "hexagon=hexagon[['id', 'REGION_N', 'geometry']]"
   ]
  },
  {
   "cell_type": "code",
   "execution_count": 16,
   "metadata": {},
   "outputs": [],
   "source": [
    "hexagon[\"Center\"]=hexagon.geometry.centroid"
   ]
  },
  {
   "cell_type": "code",
   "execution_count": 17,
   "metadata": {},
   "outputs": [],
   "source": [
    "aggregatedNetworkData=aggregatedNetworkData.merge(hexagon[[\"id\",\"REGION_N\",\"Center\"]],left_on=\"pickup_id\",right_on=\"id\")"
   ]
  },
  {
   "cell_type": "code",
   "execution_count": 18,
   "metadata": {},
   "outputs": [],
   "source": [
    "aggregatedNetworkData=aggregatedNetworkData.merge(hexagon[[\"id\",\"REGION_N\",\"Center\"]],left_on=\"destination_id\",right_on=\"id\",suffixes=('_pickup', '_destination'))"
   ]
  },
  {
   "cell_type": "markdown",
   "metadata": {},
   "source": [
    "# Calculate the distance between two polygon"
   ]
  },
  {
   "cell_type": "code",
   "execution_count": 19,
   "metadata": {},
   "outputs": [],
   "source": [
    "from math import radians, cos, sin, asin, sqrt\n",
    "\n",
    "def haversine(p1,p2):\n",
    "    \"\"\"\n",
    "    Calculate the great circle distance between two points \n",
    "    on the earth (specified in decimal degrees)\n",
    "    \"\"\"\n",
    "    lon1, lat1 =p1.x,p1.y\n",
    "    lon2, lat2 =p2.x,p2.y\n",
    "    # convert decimal degrees to radians \n",
    "    lon1, lat1, lon2, lat2 = map(radians, [lon1, lat1, lon2, lat2])\n",
    "\n",
    "    # haversine formula \n",
    "    dlon = lon2 - lon1 \n",
    "    dlat = lat2 - lat1 \n",
    "    a = sin(dlat/2)**2 + cos(lat1) * cos(lat2) * sin(dlon/2)**2\n",
    "    c = 2 * asin(sqrt(a)) \n",
    "    r = 6371 # Radius of earth in kilometers. Use 3956 for miles\n",
    "    return c * r"
   ]
  },
  {
   "cell_type": "code",
   "execution_count": 20,
   "metadata": {},
   "outputs": [],
   "source": [
    "aggregatedNetworkData[\"Distance\"]=aggregatedNetworkData.apply(lambda x:  haversine(x[\"Center_destination\"],x[\"Center_pickup\"]),axis=1)"
   ]
  },
  {
   "cell_type": "code",
   "execution_count": 21,
   "metadata": {},
   "outputs": [
    {
     "data": {
      "text/html": [
       "<div>\n",
       "<style scoped>\n",
       "    .dataframe tbody tr th:only-of-type {\n",
       "        vertical-align: middle;\n",
       "    }\n",
       "\n",
       "    .dataframe tbody tr th {\n",
       "        vertical-align: top;\n",
       "    }\n",
       "\n",
       "    .dataframe thead th {\n",
       "        text-align: right;\n",
       "    }\n",
       "</style>\n",
       "<table border=\"1\" class=\"dataframe\">\n",
       "  <thead>\n",
       "    <tr style=\"text-align: right;\">\n",
       "      <th></th>\n",
       "      <th>pickup_id</th>\n",
       "      <th>destination_id</th>\n",
       "      <th>mean</th>\n",
       "      <th>median</th>\n",
       "      <th>standardDeviation</th>\n",
       "      <th>trip_count</th>\n",
       "      <th>id_pickup</th>\n",
       "      <th>REGION_N_pickup</th>\n",
       "      <th>Center_pickup</th>\n",
       "      <th>id_destination</th>\n",
       "      <th>REGION_N_destination</th>\n",
       "      <th>Center_destination</th>\n",
       "      <th>Distance</th>\n",
       "    </tr>\n",
       "  </thead>\n",
       "  <tbody>\n",
       "    <tr>\n",
       "      <th>0</th>\n",
       "      <td>184</td>\n",
       "      <td>185</td>\n",
       "      <td>28.666667</td>\n",
       "      <td>25.000000</td>\n",
       "      <td>6.350853</td>\n",
       "      <td>3</td>\n",
       "      <td>184</td>\n",
       "      <td>WEST REGION</td>\n",
       "      <td>POINT (103.61581 1.27407)</td>\n",
       "      <td>185</td>\n",
       "      <td>WEST REGION</td>\n",
       "      <td>POINT (103.61581 1.26954)</td>\n",
       "      <td>0.50280</td>\n",
       "    </tr>\n",
       "    <tr>\n",
       "      <th>1</th>\n",
       "      <td>186</td>\n",
       "      <td>185</td>\n",
       "      <td>11.500000</td>\n",
       "      <td>11.500000</td>\n",
       "      <td>0.000000</td>\n",
       "      <td>1</td>\n",
       "      <td>186</td>\n",
       "      <td>WEST REGION</td>\n",
       "      <td>POINT (103.61581 1.26502)</td>\n",
       "      <td>185</td>\n",
       "      <td>WEST REGION</td>\n",
       "      <td>POINT (103.61581 1.26954)</td>\n",
       "      <td>0.50280</td>\n",
       "    </tr>\n",
       "    <tr>\n",
       "      <th>2</th>\n",
       "      <td>184</td>\n",
       "      <td>253</td>\n",
       "      <td>31.846939</td>\n",
       "      <td>31.846939</td>\n",
       "      <td>5.440393</td>\n",
       "      <td>2</td>\n",
       "      <td>184</td>\n",
       "      <td>WEST REGION</td>\n",
       "      <td>POINT (103.61581 1.27407)</td>\n",
       "      <td>253</td>\n",
       "      <td>WEST REGION</td>\n",
       "      <td>POINT (103.61970 1.27633)</td>\n",
       "      <td>0.50028</td>\n",
       "    </tr>\n",
       "    <tr>\n",
       "      <th>3</th>\n",
       "      <td>254</td>\n",
       "      <td>253</td>\n",
       "      <td>30.329268</td>\n",
       "      <td>30.329268</td>\n",
       "      <td>0.000000</td>\n",
       "      <td>1</td>\n",
       "      <td>254</td>\n",
       "      <td>WEST REGION</td>\n",
       "      <td>POINT (103.61970 1.27181)</td>\n",
       "      <td>253</td>\n",
       "      <td>WEST REGION</td>\n",
       "      <td>POINT (103.61970 1.27633)</td>\n",
       "      <td>0.50280</td>\n",
       "    </tr>\n",
       "    <tr>\n",
       "      <th>4</th>\n",
       "      <td>323</td>\n",
       "      <td>253</td>\n",
       "      <td>35.246130</td>\n",
       "      <td>34.000000</td>\n",
       "      <td>14.825735</td>\n",
       "      <td>5</td>\n",
       "      <td>323</td>\n",
       "      <td>WEST REGION</td>\n",
       "      <td>POINT (103.62359 1.27859)</td>\n",
       "      <td>253</td>\n",
       "      <td>WEST REGION</td>\n",
       "      <td>POINT (103.61970 1.27633)</td>\n",
       "      <td>0.50028</td>\n",
       "    </tr>\n",
       "  </tbody>\n",
       "</table>\n",
       "</div>"
      ],
      "text/plain": [
       "   pickup_id  destination_id       mean     median  standardDeviation  \\\n",
       "0        184             185  28.666667  25.000000           6.350853   \n",
       "1        186             185  11.500000  11.500000           0.000000   \n",
       "2        184             253  31.846939  31.846939           5.440393   \n",
       "3        254             253  30.329268  30.329268           0.000000   \n",
       "4        323             253  35.246130  34.000000          14.825735   \n",
       "\n",
       "   trip_count  id_pickup REGION_N_pickup              Center_pickup  \\\n",
       "0           3        184     WEST REGION  POINT (103.61581 1.27407)   \n",
       "1           1        186     WEST REGION  POINT (103.61581 1.26502)   \n",
       "2           2        184     WEST REGION  POINT (103.61581 1.27407)   \n",
       "3           1        254     WEST REGION  POINT (103.61970 1.27181)   \n",
       "4           5        323     WEST REGION  POINT (103.62359 1.27859)   \n",
       "\n",
       "   id_destination REGION_N_destination         Center_destination  Distance  \n",
       "0             185          WEST REGION  POINT (103.61581 1.26954)   0.50280  \n",
       "1             185          WEST REGION  POINT (103.61581 1.26954)   0.50280  \n",
       "2             253          WEST REGION  POINT (103.61970 1.27633)   0.50028  \n",
       "3             253          WEST REGION  POINT (103.61970 1.27633)   0.50280  \n",
       "4             253          WEST REGION  POINT (103.61970 1.27633)   0.50028  "
      ]
     },
     "execution_count": 21,
     "metadata": {},
     "output_type": "execute_result"
    }
   ],
   "source": [
    "aggregatedNetworkData.head()"
   ]
  },
  {
   "cell_type": "code",
   "execution_count": 22,
   "metadata": {},
   "outputs": [
    {
     "name": "stderr",
     "output_type": "stream",
     "text": [
      "/root/anaconda3/lib/python3.6/site-packages/scipy/stats/stats.py:1706: FutureWarning: Using a non-tuple sequence for multidimensional indexing is deprecated; use `arr[tuple(seq)]` instead of `arr[seq]`. In the future this will be interpreted as an array index, `arr[np.array(seq)]`, which will result either in an error or a different result.\n",
      "  return np.add.reduce(sorted[indexer] * weights, axis=axis) / sumval\n"
     ]
    },
    {
     "data": {
      "text/plain": [
       "<matplotlib.axes._subplots.AxesSubplot at 0x7fd6ce8c1c18>"
      ]
     },
     "execution_count": 22,
     "metadata": {},
     "output_type": "execute_result"
    },
    {
     "data": {
      "image/png": "[encoded data removed]",
      "text/plain": [
       "<Figure size 432x288 with 1 Axes>"
      ]
     },
     "metadata": {},
     "output_type": "display_data"
    }
   ],
   "source": [
    "sns.regplot(aggregatedNetworkData[\"trip_count\"].clip(upper=aggregatedNetworkData[\"trip_count\"].quantile(0.95)),\n",
    "            aggregatedNetworkData[\"mean\"].clip(upper=aggregatedNetworkData[\"mean\"].quantile(0.95)))"
   ]
  },
  {
   "cell_type": "code",
   "execution_count": 23,
   "metadata": {
    "scrolled": true
   },
   "outputs": [
    {
     "name": "stderr",
     "output_type": "stream",
     "text": [
      "/root/anaconda3/lib/python3.6/site-packages/pandas/core/series.py:856: RuntimeWarning: divide by zero encountered in log\n",
      "  result = getattr(ufunc, method)(*inputs, **kwargs)\n",
      "/root/anaconda3/lib/python3.6/site-packages/scipy/stats/stats.py:1706: FutureWarning: Using a non-tuple sequence for multidimensional indexing is deprecated; use `arr[tuple(seq)]` instead of `arr[seq]`. In the future this will be interpreted as an array index, `arr[np.array(seq)]`, which will result either in an error or a different result.\n",
      "  return np.add.reduce(sorted[indexer] * weights, axis=axis) / sumval\n"
     ]
    },
    {
     "data": {
      "text/plain": [
       "<matplotlib.axes._subplots.AxesSubplot at 0x7fd6ce8a7748>"
      ]
     },
     "execution_count": 23,
     "metadata": {},
     "output_type": "execute_result"
    },
    {
     "data": {
      "image/png": "[encoded data removed]",
      "text/plain": [
       "<Figure size 432x288 with 1 Axes>"
      ]
     },
     "metadata": {},
     "output_type": "display_data"
    }
   ],
   "source": [
    "sns.regplot(np.log(aggregatedNetworkData[\"trip_count\"]),\n",
    "            np.log(aggregatedNetworkData[\"mean\"]),\n",
    "            line_kws={'color':'red'})"
   ]
  },
  {
   "cell_type": "code",
   "execution_count": 24,
   "metadata": {},
   "outputs": [
    {
     "name": "stderr",
     "output_type": "stream",
     "text": [
      "/root/anaconda3/lib/python3.6/site-packages/scipy/stats/stats.py:1706: FutureWarning: Using a non-tuple sequence for multidimensional indexing is deprecated; use `arr[tuple(seq)]` instead of `arr[seq]`. In the future this will be interpreted as an array index, `arr[np.array(seq)]`, which will result either in an error or a different result.\n",
      "  return np.add.reduce(sorted[indexer] * weights, axis=axis) / sumval\n"
     ]
    },
    {
     "data": {
      "text/plain": [
       "<matplotlib.axes._subplots.AxesSubplot at 0x7fd628e56390>"
      ]
     },
     "execution_count": 24,
     "metadata": {},
     "output_type": "execute_result"
    },
    {
     "data": {
      "image/png": "[encoded data removed]",
      "text/plain": [
       "<Figure size 432x288 with 1 Axes>"
      ]
     },
     "metadata": {},
     "output_type": "display_data"
    }
   ],
   "source": [
    "sns.distplot(np.log(aggregatedNetworkData[\"trip_count\"]))"
   ]
  },
  {
   "cell_type": "code",
   "execution_count": 25,
   "metadata": {},
   "outputs": [
    {
     "name": "stderr",
     "output_type": "stream",
     "text": [
      "/root/anaconda3/lib/python3.6/site-packages/scipy/stats/stats.py:1706: FutureWarning: Using a non-tuple sequence for multidimensional indexing is deprecated; use `arr[tuple(seq)]` instead of `arr[seq]`. In the future this will be interpreted as an array index, `arr[np.array(seq)]`, which will result either in an error or a different result.\n",
      "  return np.add.reduce(sorted[indexer] * weights, axis=axis) / sumval\n"
     ]
    },
    {
     "data": {
      "text/plain": [
       "<matplotlib.axes._subplots.AxesSubplot at 0x7fd6ce939518>"
      ]
     },
     "execution_count": 25,
     "metadata": {},
     "output_type": "execute_result"
    },
    {
     "data": {
      "image/png": "[encoded data removed]",
      "text/plain": [
       "<Figure size 432x288 with 1 Axes>"
      ]
     },
     "metadata": {},
     "output_type": "display_data"
    }
   ],
   "source": [
    "from scipy.special import erfinv\n",
    "\n",
    "X=aggregatedNetworkData[\"trip_count\"].rank()\n",
    "X_std= (X - (X.min()-1)) / ((X.max()+1) - (X.min()-1))\n",
    "X_scaled = X_std * (1 - (-1)) + (-1)\n",
    "transformed = erfinv( X_scaled )\n",
    "sns.distplot( transformed )"
   ]
  },
  {
   "cell_type": "markdown",
   "metadata": {},
   "source": [
    "# Transform the trip count"
   ]
  },
  {
   "cell_type": "code",
   "execution_count": 36,
   "metadata": {},
   "outputs": [
    {
     "data": {
      "text/plain": [
       "count    12931.000000\n",
       "mean        98.627716\n",
       "std        355.291534\n",
       "min          1.000000\n",
       "25%          1.000000\n",
       "50%          2.000000\n",
       "75%         16.000000\n",
       "max       3719.000000\n",
       "Name: trip_count, dtype: float64"
      ]
     },
     "execution_count": 36,
     "metadata": {},
     "output_type": "execute_result"
    }
   ],
   "source": [
    "aggregatedNetworkData[\"trip_count\"].describe()"
   ]
  },
  {
   "cell_type": "code",
   "execution_count": 35,
   "metadata": {},
   "outputs": [
    {
     "data": {
      "text/plain": [
       "count    12931.000000\n",
       "mean         2.042003\n",
       "std          1.857533\n",
       "min          0.693147\n",
       "25%          0.693147\n",
       "50%          1.098612\n",
       "75%          2.833213\n",
       "max          8.221479\n",
       "Name: trip_count, dtype: float64"
      ]
     },
     "execution_count": 35,
     "metadata": {},
     "output_type": "execute_result"
    }
   ],
   "source": [
    "np.log1p(aggregatedNetworkData[\"trip_count\"]).describe()"
   ]
  },
  {
   "cell_type": "code",
   "execution_count": 26,
   "metadata": {},
   "outputs": [
    {
     "name": "stderr",
     "output_type": "stream",
     "text": [
      "/root/anaconda3/lib/python3.6/site-packages/scipy/stats/stats.py:1706: FutureWarning: Using a non-tuple sequence for multidimensional indexing is deprecated; use `arr[tuple(seq)]` instead of `arr[seq]`. In the future this will be interpreted as an array index, `arr[np.array(seq)]`, which will result either in an error or a different result.\n",
      "  return np.add.reduce(sorted[indexer] * weights, axis=axis) / sumval\n"
     ]
    },
    {
     "data": {
      "text/plain": [
       "<matplotlib.axes._subplots.AxesSubplot at 0x7fd6ce8ec4a8>"
      ]
     },
     "execution_count": 26,
     "metadata": {},
     "output_type": "execute_result"
    },
    {
     "data": {
      "image/png": "[encoded data removed]",
      "text/plain": [
       "<Figure size 432x288 with 1 Axes>"
      ]
     },
     "metadata": {},
     "output_type": "display_data"
    }
   ],
   "source": [
    "sns.distplot(1/np.log1p(aggregatedNetworkData[\"trip_count\"]))"
   ]
  },
  {
   "cell_type": "code",
   "execution_count": 28,
   "metadata": {},
   "outputs": [],
   "source": [
    "aggregatedNetworkData[\"path_popularity\"]=1/np.log1p(aggregatedNetworkData[\"trip_count\"])"
   ]
  },
  {
   "cell_type": "code",
   "execution_count": 30,
   "metadata": {},
   "outputs": [],
   "source": [
    "aggregatedNetworkData.to_csv(\"TripNetworkData.csv\",index=False)"
   ]
  },
  {
   "cell_type": "code",
   "execution_count": 45,
   "metadata": {
    "scrolled": false
   },
   "outputs": [],
   "source": [
    "# nx.draw(G)\n",
    "# labels = nx.get_node_attributes(G,'weight')\n",
    "# nx.draw_networkx(G, pos=pos)\n",
    "# nx.draw_networkx_edge_labels(G, pos=pos)\n",
    "# plt.figure(figsize=(15,15))\n",
    "# pos=nx.spring_layout(G,k=0.5,weight='weight')\n",
    "# labels = nx.get_edge_attributes(G,'weight')\n",
    "# nx.draw(G,pos,node_color='#A0CBE2',edge_color='#BB0000',width=2,edge_cmap=plt.cm.Blues,with_labels=True)\n",
    "# plt.show()"
   ]
  },
  {
   "cell_type": "code",
   "execution_count": 50,
   "metadata": {},
   "outputs": [],
   "source": [
    "aggregatedData=joinedSGGeo.groupby([\"REGION_N\",\"id\",\"trj_id\"]).agg({\"pingtimestamp\":[\"min\",\"max\",\"mean\"]})\n",
    "\n",
    "aggregatedData.columns = [\"time_min\",\"time_max\",\"time_mean\"]\n",
    "\n",
    "aggregatedData=aggregatedData.reset_index()\n",
    "\n",
    "aggregatedData[aggregatedData[\"trj_id\"]==\"11501\"]"
   ]
  }
 ],
 "metadata": {
  "kernelspec": {
   "display_name": "Python 3",
   "language": "python",
   "name": "python3"
  },
  "language_info": {
   "codemirror_mode": {
    "name": "ipython",
    "version": 3
   },
   "file_extension": ".py",
   "mimetype": "text/x-python",
   "name": "python",
   "nbconvert_exporter": "python",
   "pygments_lexer": "ipython3",
   "version": "3.6.4"
  },
  "toc": {
   "base_numbering": 1,
   "nav_menu": {},
   "number_sections": true,
   "sideBar": true,
   "skip_h1_title": false,
   "title_cell": "Table of Contents",
   "title_sidebar": "Contents",
   "toc_cell": false,
   "toc_position": {},
   "toc_section_display": true,
   "toc_window_display": false
  },
  "varInspector": {
   "cols": {
    "lenName": 16,
    "lenType": 16,
    "lenVar": 40
   },
   "kernels_config": {
    "python": {
     "delete_cmd_postfix": "",
     "delete_cmd_prefix": "del ",
     "library": "var_list.py",
     "varRefreshCmd": "print(var_dic_list())"
    },
    "r": {
     "delete_cmd_postfix": ") ",
     "delete_cmd_prefix": "rm(",
     "library": "var_list.r",
     "varRefreshCmd": "cat(var_dic_list()) "
    }
   },
   "types_to_exclude": [
    "module",
    "function",
    "builtin_function_or_method",
    "instance",
    "_Feature"
   ],
   "window_display": false
  }
 },
 "nbformat": 4,
 "nbformat_minor": 2
}
